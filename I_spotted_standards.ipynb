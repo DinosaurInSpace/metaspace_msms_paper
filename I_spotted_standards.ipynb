{
 "cells": [
  {
   "cell_type": "code",
   "execution_count": 1,
   "metadata": {},
   "outputs": [],
   "source": [
    "%load_ext autoreload\n",
    "%autoreload 2"
   ]
  },
  {
   "cell_type": "code",
   "execution_count": 2,
   "metadata": {},
   "outputs": [],
   "source": [
    "import pandas as pd\n",
    "import numpy as np\n",
    "import requests\n",
    "import zipfile\n",
    "\n",
    "from parse_reference_spectra import parse_gnps_json, output_loop\n",
    "from spectra_to_sirius import master_loop\n",
    "from clone_ds_to_beta import copy_beta\n",
    "from results_from_metaspace_msms_process import logon_metaspace\n",
    "from metaspace.sm_annotation_utils import SMInstance\n",
    "from results_from_metaspace_msms_process import split_data_frame_list\n",
    "from sirius_to_metaspace_db import primary_loop"
   ]
  },
  {
   "cell_type": "markdown",
   "metadata": {},
   "source": [
    "Workflow steps on spotted standards for METASAPCE MS/MS publication."
   ]
  },
  {
   "cell_type": "code",
   "execution_count": 3,
   "metadata": {},
   "outputs": [],
   "source": [
    "# 1. Authentic standard compounds of interest (COI's).\n",
    "spotted_cmpds_df = pd.read_csv('input/spotted_cmpds.csv', sep=\"\\t\")"
   ]
  },
  {
   "cell_type": "code",
   "execution_count": null,
   "metadata": {},
   "outputs": [],
   "source": [
    "### not now ###\n",
    "# 2. Downloading database references: GNPS\n",
    "# Academic users only: contact \"ccms-web@cs.ucsd.edu\" and request \"gnps_exp_all.json\"\n",
    "# Copy to \"intermdiate/gnps_exp_all.json\"\n",
    "gnps_df = parse_gnps_json('intermdiate/gnps_exp_all.json')\n",
    "gnps_df.to_pickle('intermediate/databases/gnps_df.pickle')"
   ]
  },
  {
   "cell_type": "code",
   "execution_count": null,
   "metadata": {},
   "outputs": [],
   "source": [
    "### not now ###\n",
    "# 2. Downloading database references: HMDB \n",
    "with open('intermediate/hmdb_experimental_msms_spectra.zip', 'wb') as f:\n",
    "    f.write(requests.get('http://specdb.wishartlab.com/downloads/exports/spectra_xml/hmdb_experimental_msms_spectra.zip', allow_redirects=True).content)\n",
    "with zipfile.ZipFile('intermediate/hmdb_experimental_msms_spectra.zip', 'r') as z:\n",
    "    z.extractall('intermediate/hmdb_lcms/hmdb_experimental_msms_spectra/')\n",
    "    \n",
    "with open('intermediate/hmdb_predicted_msms_spectra.zip', 'wb') as f:\n",
    "    f.write(requests.get('http://specdb.wishartlab.com/downloads/exports/spectra_xml/hmdb_predicted_msms_spectra.zip', allow_redirects=True).content)\n",
    "with zipfile.ZipFile('intermediate/hmdb_predicted_msms_spectra.zip', 'r') as z:\n",
    "    z.extractall('intermediate/hmdb_lcms/hmdb_predicted_msms_spectra/')\n",
    "\n",
    "!python hmdb_parser.py --input intermediate/hmdb_lcms/ --output intermediate/databases/ --polarity both"
   ]
  },
  {
   "cell_type": "code",
   "execution_count": null,
   "metadata": {},
   "outputs": [],
   "source": [
    "### not now ###\n",
    "# 2. Downloading database references: MONA\n",
    "!python query_mona.py --input input/core_metabolome_v3.pickle --output intermediate/databases/ --polarity negative\n",
    "!python query_mona.py --input input/core_metabolome_v3.pickle --output intermediate/databases/ --polarity positive"
   ]
  },
  {
   "cell_type": "code",
   "execution_count": 4,
   "metadata": {},
   "outputs": [],
   "source": [
    "# 3. Collecting predicted MS/MS spectra for spotted compounds\n",
    "ref_theo_pos = 'input/reference_spectra/positive_theoretical'\n",
    "ref_theo_neg = 'input/reference_spectra/negative_theoretical'"
   ]
  },
  {
   "cell_type": "code",
   "execution_count": 5,
   "metadata": {},
   "outputs": [],
   "source": [
    "# 4. Collecting reference experimental MS/MS spectra for spotted compounds\n",
    "ref_expt_pos = 'input/reference_spectra/positive_experimental'\n",
    "ref_expt_neg = 'input/reference_spectra/negative_experimental'"
   ]
  },
  {
   "cell_type": "code",
   "execution_count": 6,
   "metadata": {},
   "outputs": [],
   "source": [
    "# 5. Collecting in-house experimental MS/MS spectra for spotted compounds\n",
    "embl_expt_pos = 'input/reference_spectra/embl_maldi/positive'\n",
    "embl_expt_neg = 'input/reference_spectra/embl_maldi/negative'\n",
    "\n",
    "## Parse to [(mz,int),..]"
   ]
  },
  {
   "cell_type": "code",
   "execution_count": null,
   "metadata": {},
   "outputs": [],
   "source": [
    "# 6. Generating custom MS1 database using known spotted compounds.\n",
    "cm3_df = pd.read_pickle('input/core_metabolome_v3.pickle')\n",
    "cm3_stds_df = cm3_df[cm3_df.id.isin(list(spotted_cmpds_df.id))].copy(deep=True)"
   ]
  },
  {
   "cell_type": "code",
   "execution_count": null,
   "metadata": {},
   "outputs": [],
   "source": [
    "### not now ###\n",
    "# 7. Running and interpreting the METASPACE results.\n",
    "spotted_ds_id_in = {'id_1': 'positive', 'id_n': 'negative'}\n",
    "out_dict_list = []\n",
    "for ds, polarity in spotted_ds_id_in.items():\n",
    "    if polarity == 'positive':\n",
    "        x = copy_beta(ds, 'HNaKM', 'cm3_stds')\n",
    "    elif polarity == 'negative':\n",
    "        x = copy_beta(ds, 'HM', 'cm3_stds')\n",
    "    out_dict_list.append(x)\n",
    "    \n",
    "out_df = pd.DataFrame(out_dict_list)\n",
    "out_df.to_pickle('cm3_spotted_msms_df.pickle')\n",
    "\n",
    "# Check that jobs are complete on server before running next cell\n",
    "## Update list of dataset ids after experiment ran"
   ]
  },
  {
   "cell_type": "code",
   "execution_count": null,
   "metadata": {},
   "outputs": [],
   "source": [
    "### not now ###\n",
    "# 7. Running and interpreting the METASPACE results.\n",
    "df_list = []\n",
    "for ms_ds_id in out_df.ds_id_out:\n",
    "    ds_id_in = list(out_df[out_df.ds_id_out == ms_ds_id].ds_id_in)[0]\n",
    "    sm = SMInstance(host='https://beta.metaspace2020.eu')\n",
    "    sm = logon_metaspace(sm)\n",
    "    ds = sm.dataset(id=ms_ds_id)\n",
    "    results_df = ds.results(database='cm3_stds').reset_index()\n",
    "    results_df['ds_id_in'] = ds_id_in\n",
    "    df_list.append(results_df)\n",
    "\n",
    "ms1_df = pd.concat(df_list)\n",
    "ms1_df = ms1_df[ms1_df.fdr <=0.2]\n",
    "ms1_df = ms1_df[['ds_id_in', 'moleculeIds']]\n",
    "ms1_df = split_data_frame_list(ms1_df, 'moleculeIds')\n",
    "\n",
    "## Plot MS1 figures here for standards to folder.\n",
    "## Need ds_id first!"
   ]
  },
  {
   "cell_type": "code",
   "execution_count": null,
   "metadata": {},
   "outputs": [],
   "source": [
    "### not now ###\n",
    "# 8. Generating custom MS2 database using known spotted compounds.\n",
    "gnps_exp_all = 'intermdiate/gnps_exp_all.json'\n",
    "hmdb_exp_negative = 'intermediate/databases/hmdb_exp_negative.pickle'\n",
    "hmdb_exp_positive = 'intermediate/databases/hmdb_exp_positive.pickle'\n",
    "hmdb_theo_negative = 'intermediate/databases/hmdb_theo_negative.pickle'\n",
    "hmdb_theo_positive = 'intermediate/databases/hmdb_theo_positive.pickle'\n",
    "mona_exp_negative = 'intermediate/databases/mona_exp_negative.pickle'\n",
    "mona_exp_positive = 'intermediate/databases/mona_exp_positive.pickle'\n",
    "\n",
    "# Generate reference database limited to cmpds with theo/exp spectra\n",
    "output_loop(cm3_stds_df,\n",
    "            'intermediate/databases/',\n",
    "            gnps_exp_all,\n",
    "            hmdb_exp_positive,\n",
    "            hmdb_exp_negative,\n",
    "            hmdb_theo_positive,\n",
    "            hmdb_theo_negative,\n",
    "            mona_exp_positive,\n",
    "            mona_exp_negative\n",
    "           )\n",
    "\n",
    "# Parses spectra from databases and runs Sirius\n",
    "master_loop('intermediate/databases/ref_expt_df.pickle',\n",
    "            'intermediate/sirius_out/',\n",
    "            gnps_exp_all,\n",
    "            hmdb_exp_positive,\n",
    "            hmdb_exp_negative,\n",
    "            hmdb_theo_positive,\n",
    "            hmdb_theo_negative,\n",
    "            mona_exp_positive,\n",
    "            mona_exp_negative,\n",
    "            'positive',\n",
    "            'exp'\n",
    "           )\n",
    "\n",
    "master_loop('intermediate/databases/ref_expt_df.pickle',\n",
    "            'intermediate/sirius_out/',\n",
    "            gnps_exp_all,\n",
    "            hmdb_exp_positive,\n",
    "            hmdb_exp_negative,\n",
    "            hmdb_theo_positive,\n",
    "            hmdb_theo_negative,\n",
    "            mona_exp_positive,\n",
    "            mona_exp_negative,\n",
    "            'negative',\n",
    "            'exp'\n",
    "           )\n",
    "\n",
    "master_loop('intermediate/databases/ref_theo_df.pickle',\n",
    "            'intermediate/sirius_out/',\n",
    "            gnps_exp_all,\n",
    "            hmdb_exp_positive,\n",
    "            hmdb_exp_negative,\n",
    "            hmdb_theo_positive,\n",
    "            hmdb_theo_negative,\n",
    "            mona_exp_positive,\n",
    "            mona_exp_negative,\n",
    "            'positive',\n",
    "            'theo'\n",
    "           )\n",
    "\n",
    "master_loop('intermediate/databases/ref_theo_df.pickle',\n",
    "            'intermediate/sirius_out/',\n",
    "            gnps_exp_all,\n",
    "            hmdb_exp_positive,\n",
    "            hmdb_exp_negative,\n",
    "            hmdb_theo_positive,\n",
    "            hmdb_theo_negative,\n",
    "            mona_exp_positive,\n",
    "            mona_exp_negative,\n",
    "            'negative',\n",
    "            'theo'\n",
    "           )"
   ]
  },
  {
   "cell_type": "code",
   "execution_count": null,
   "metadata": {},
   "outputs": [],
   "source": [
    "### not now ###\n",
    "# 8. Generating custom MS2 database using known spotted compounds.\n",
    "for ds, polarity in spotted_ds_id_in.items():    \n",
    "    primary_loop(list(cm3_stds_df.name.unique()),\n",
    "                 ds,\n",
    "                 'I_spotted_standards',\n",
    "                 polarity,\n",
    "                 'intermediate/sirius_out/exp_positive.pickle',\n",
    "                 'intermediate/sirius_out/theo_positive.pickle',\n",
    "                 'intermediate/sirius_out/exp_negative.pickle',\n",
    "                 'intermediate/sirius_out/theo_negative.pickle',\n",
    "                 'intermediate/databases/ref_expt_df.pickle',\n",
    "                 'intermediate/databases/ref_theo_df.pickle'\n",
    "                 )"
   ]
  },
  {
   "cell_type": "code",
   "execution_count": null,
   "metadata": {},
   "outputs": [],
   "source": [
    "### not now ###\n",
    "# 9. Running and interpreting the METASPACE MSMS results.\n",
    "out_dict_list = []\n",
    "for ds, polarity in spotted_ds_id_in.items():\n",
    "    x = copy_beta(ds, 'M', 'ds')\n",
    "    out_dict_list.append(x)\n",
    "    \n",
    "out_df = pd.DataFrame(out_dict_list)\n",
    "out_df.to_pickle('I_spotted_standards/cm3_spotted_msms_df.pickle')"
   ]
  },
  {
   "cell_type": "code",
   "execution_count": null,
   "metadata": {},
   "outputs": [],
   "source": [
    "### Stop"
   ]
  },
  {
   "cell_type": "code",
   "execution_count": null,
   "metadata": {},
   "outputs": [],
   "source": [
    "# 10. Generate psuedo-MS/MS spectra from ISF data."
   ]
  },
  {
   "cell_type": "code",
   "execution_count": null,
   "metadata": {},
   "outputs": [],
   "source": [
    "\n",
    "# 11. Score predicted, experimental, and psuedo-MS/MS spectra together.\n",
    "from cosine_spectra import score_alignment, read_ms_file\n",
    "score_alignment(read_ms_file(f1),\n",
    "                read_ms_file(f2),\n",
    "                f1p,f2p,0.1\n",
    "               )[0]\n",
    "# 12. Plot examples.\n",
    "# 13. Carry well-behaved molecules forward."
   ]
  },
  {
   "cell_type": "code",
   "execution_count": null,
   "metadata": {},
   "outputs": [],
   "source": [
    "spectra_db = [ref_theo_pos, ref_theo_neg, \n",
    "              ref_expt_pos, ref_expt_neg,\n",
    "              embl_expt_pos, embl_expt_neg]"
   ]
  },
  {
   "cell_type": "code",
   "execution_count": null,
   "metadata": {},
   "outputs": [],
   "source": []
  }
 ],
 "metadata": {
  "kernelspec": {
   "display_name": "Python 3",
   "language": "python",
   "name": "python3"
  },
  "language_info": {
   "codemirror_mode": {
    "name": "ipython",
    "version": 3
   },
   "file_extension": ".py",
   "mimetype": "text/x-python",
   "name": "python",
   "nbconvert_exporter": "python",
   "pygments_lexer": "ipython3",
   "version": "3.6.8"
  }
 },
 "nbformat": 4,
 "nbformat_minor": 2
}
