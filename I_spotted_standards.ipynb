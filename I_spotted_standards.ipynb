{
 "cells": [
  {
   "cell_type": "code",
   "execution_count": 4,
   "metadata": {},
   "outputs": [
    {
     "name": "stdout",
     "output_type": "stream",
     "text": [
      "The autoreload extension is already loaded. To reload it, use:\n",
      "  %reload_ext autoreload\n"
     ]
    }
   ],
   "source": [
    "%load_ext autoreload\n",
    "%autoreload 2"
   ]
  },
  {
   "cell_type": "code",
   "execution_count": 3,
   "metadata": {},
   "outputs": [],
   "source": [
    "import pandas as pd\n",
    "import numpy as np\n",
    "import requests\n",
    "import zipfile\n",
    "import glob\n",
    "\n",
    "from parse_reference_spectra import parse_gnps_json, output_loop\n",
    "from spectra_to_sirius import master_loop\n",
    "from clone_ds_to_beta import copy_beta\n",
    "from results_from_metaspace_msms_process import logon_metaspace\n",
    "from metaspace.sm_annotation_utils import SMInstance\n",
    "from results_from_metaspace_msms_process import split_data_frame_list\n",
    "from sirius_to_metaspace_db import primary_loop\n",
    "from cosine_spectra import score_alignment, read_ms_file\n",
    "import matplotlib.pyplot as plt"
   ]
  },
  {
   "cell_type": "markdown",
   "metadata": {},
   "source": [
    "Workflow steps on spotted standards for METASAPCE MS/MS publication."
   ]
  },
  {
   "cell_type": "code",
   "execution_count": null,
   "metadata": {},
   "outputs": [],
   "source": [
    "# 1. Authentic standard compounds of interest (COI's).\n",
    "spotted_cmpds_df = pd.read_csv('input/spotted_cmpds.csv', sep=\"\\t\")"
   ]
  },
  {
   "cell_type": "code",
   "execution_count": null,
   "metadata": {},
   "outputs": [],
   "source": [
    "### not now ###\n",
    "# 2. Downloading database references: GNPS\n",
    "# Academic users only: contact \"ccms-web@cs.ucsd.edu\" and request \"gnps_exp_all.json\"\n",
    "# Copy to \"intermdiate/gnps_exp_all.json\"\n",
    "gnps_df = parse_gnps_json('intermdiate/gnps_exp_all.json')\n",
    "gnps_df.to_pickle('intermediate/databases/gnps_df.pickle')"
   ]
  },
  {
   "cell_type": "code",
   "execution_count": null,
   "metadata": {},
   "outputs": [],
   "source": [
    "### not now ###\n",
    "# 2. Downloading database references: HMDB \n",
    "with open('intermediate/hmdb_experimental_msms_spectra.zip', 'wb') as f:\n",
    "    f.write(requests.get('http://specdb.wishartlab.com/downloads/exports/spectra_xml/hmdb_experimental_msms_spectra.zip', allow_redirects=True).content)\n",
    "with zipfile.ZipFile('intermediate/hmdb_experimental_msms_spectra.zip', 'r') as z:\n",
    "    z.extractall('intermediate/hmdb_lcms/hmdb_experimental_msms_spectra/')\n",
    "    \n",
    "with open('intermediate/hmdb_predicted_msms_spectra.zip', 'wb') as f:\n",
    "    f.write(requests.get('http://specdb.wishartlab.com/downloads/exports/spectra_xml/hmdb_predicted_msms_spectra.zip', allow_redirects=True).content)\n",
    "with zipfile.ZipFile('intermediate/hmdb_predicted_msms_spectra.zip', 'r') as z:\n",
    "    z.extractall('intermediate/hmdb_lcms/hmdb_predicted_msms_spectra/')\n",
    "\n",
    "!python hmdb_parser.py --input intermediate/hmdb_lcms/ --output intermediate/databases/ --polarity both"
   ]
  },
  {
   "cell_type": "code",
   "execution_count": null,
   "metadata": {},
   "outputs": [],
   "source": [
    "### not now ###\n",
    "# 2. Downloading database references: MONA\n",
    "!python query_mona.py --input input/core_metabolome_v3.pickle --output intermediate/databases/ --polarity negative\n",
    "!python query_mona.py --input input/core_metabolome_v3.pickle --output intermediate/databases/ --polarity positive"
   ]
  },
  {
   "cell_type": "code",
   "execution_count": null,
   "metadata": {},
   "outputs": [],
   "source": [
    "# 3. Collecting predicted MS/MS spectra for spotted compounds\n",
    "ref_theo_pos = 'input/reference_spectra/positive_theoretical'\n",
    "ref_theo_neg = 'input/reference_spectra/negative_theoretical'"
   ]
  },
  {
   "cell_type": "code",
   "execution_count": null,
   "metadata": {},
   "outputs": [],
   "source": [
    "# 4. Collecting reference experimental MS/MS spectra for spotted compounds\n",
    "ref_expt_pos = 'input/reference_spectra/positive_experimental'\n",
    "ref_expt_neg = 'input/reference_spectra/negative_experimental'"
   ]
  },
  {
   "cell_type": "code",
   "execution_count": null,
   "metadata": {},
   "outputs": [],
   "source": [
    "# 5. Collecting in-house experimental MS/MS spectra for spotted compounds\n",
    "embl_expt_pos = 'input/reference_spectra/embl_maldi/positive'\n",
    "embl_expt_neg = 'input/reference_spectra/embl_maldi/negative'\n",
    "\n",
    "## Parse to [(mz,int),..]"
   ]
  },
  {
   "cell_type": "code",
   "execution_count": null,
   "metadata": {},
   "outputs": [],
   "source": [
    "# 6. Generating custom MS1 database using known spotted compounds.\n",
    "cm3_df = pd.read_pickle('input/core_metabolome_v3.pickle')\n",
    "cm3_stds_df = cm3_df[cm3_df.id.isin(list(spotted_cmpds_df.id))].copy(deep=True)"
   ]
  },
  {
   "cell_type": "code",
   "execution_count": null,
   "metadata": {},
   "outputs": [],
   "source": [
    "### not now ###\n",
    "# 7. Running and interpreting the METASPACE results.\n",
    "spotted_ds_id_in = {'id_1': 'positive', 'id_n': 'negative'}\n",
    "out_dict_list = []\n",
    "for ds, polarity in spotted_ds_id_in.items():\n",
    "    if polarity == 'positive':\n",
    "        x = copy_beta(ds, 'HNaKM', 'cm3_stds')\n",
    "    elif polarity == 'negative':\n",
    "        x = copy_beta(ds, 'HM', 'cm3_stds')\n",
    "    out_dict_list.append(x)\n",
    "    \n",
    "out_df = pd.DataFrame(out_dict_list)\n",
    "out_df.to_pickle('cm3_spotted_msms_df.pickle')\n",
    "\n",
    "# Check that jobs are complete on server before running next cell\n",
    "## Update list of dataset ids after experiment ran"
   ]
  },
  {
   "cell_type": "code",
   "execution_count": null,
   "metadata": {},
   "outputs": [],
   "source": [
    "### not now ###\n",
    "# 7. Running and interpreting the METASPACE results.\n",
    "df_list = []\n",
    "for ms_ds_id in out_df.ds_id_out:\n",
    "    ds_id_in = list(out_df[out_df.ds_id_out == ms_ds_id].ds_id_in)[0]\n",
    "    sm = SMInstance(host='https://beta.metaspace2020.eu')\n",
    "    sm = logon_metaspace(sm)\n",
    "    ds = sm.dataset(id=ms_ds_id)\n",
    "    results_df = ds.results(database='cm3_stds').reset_index()\n",
    "    results_df['ds_id_in'] = ds_id_in\n",
    "    df_list.append(results_df)\n",
    "\n",
    "ms1_df = pd.concat(df_list)\n",
    "ms1_df = ms1_df[ms1_df.fdr <=0.2]\n",
    "ms1_df = ms1_df[['ds_id_in', 'moleculeIds']]\n",
    "ms1_df = split_data_frame_list(ms1_df, 'moleculeIds')\n",
    "\n",
    "## Plot MS1 figures here for standards to folder.\n",
    "## Need ds_id first!"
   ]
  },
  {
   "cell_type": "code",
   "execution_count": null,
   "metadata": {},
   "outputs": [],
   "source": [
    "### not now ###\n",
    "# 8. Generating custom MS2 database using known spotted compounds.\n",
    "gnps_exp_all = 'intermdiate/gnps_exp_all.json'\n",
    "hmdb_exp_negative = 'intermediate/databases/hmdb_exp_negative.pickle'\n",
    "hmdb_exp_positive = 'intermediate/databases/hmdb_exp_positive.pickle'\n",
    "hmdb_theo_negative = 'intermediate/databases/hmdb_theo_negative.pickle'\n",
    "hmdb_theo_positive = 'intermediate/databases/hmdb_theo_positive.pickle'\n",
    "mona_exp_negative = 'intermediate/databases/mona_exp_negative.pickle'\n",
    "mona_exp_positive = 'intermediate/databases/mona_exp_positive.pickle'\n",
    "\n",
    "# Generate reference database limited to cmpds with theo/exp spectra\n",
    "output_loop(cm3_stds_df,\n",
    "            'intermediate/databases/',\n",
    "            gnps_exp_all,\n",
    "            hmdb_exp_positive,\n",
    "            hmdb_exp_negative,\n",
    "            hmdb_theo_positive,\n",
    "            hmdb_theo_negative,\n",
    "            mona_exp_positive,\n",
    "            mona_exp_negative\n",
    "           )\n",
    "\n",
    "# Parses spectra from databases and runs Sirius\n",
    "master_loop('intermediate/databases/ref_expt_df.pickle',\n",
    "            'intermediate/sirius_out/',\n",
    "            gnps_exp_all,\n",
    "            hmdb_exp_positive,\n",
    "            hmdb_exp_negative,\n",
    "            hmdb_theo_positive,\n",
    "            hmdb_theo_negative,\n",
    "            mona_exp_positive,\n",
    "            mona_exp_negative,\n",
    "            'positive',\n",
    "            'exp'\n",
    "           )\n",
    "\n",
    "master_loop('intermediate/databases/ref_expt_df.pickle',\n",
    "            'intermediate/sirius_out/',\n",
    "            gnps_exp_all,\n",
    "            hmdb_exp_positive,\n",
    "            hmdb_exp_negative,\n",
    "            hmdb_theo_positive,\n",
    "            hmdb_theo_negative,\n",
    "            mona_exp_positive,\n",
    "            mona_exp_negative,\n",
    "            'negative',\n",
    "            'exp'\n",
    "           )\n",
    "\n",
    "master_loop('intermediate/databases/ref_theo_df.pickle',\n",
    "            'intermediate/sirius_out/',\n",
    "            gnps_exp_all,\n",
    "            hmdb_exp_positive,\n",
    "            hmdb_exp_negative,\n",
    "            hmdb_theo_positive,\n",
    "            hmdb_theo_negative,\n",
    "            mona_exp_positive,\n",
    "            mona_exp_negative,\n",
    "            'positive',\n",
    "            'theo'\n",
    "           )\n",
    "\n",
    "master_loop('intermediate/databases/ref_theo_df.pickle',\n",
    "            'intermediate/sirius_out/',\n",
    "            gnps_exp_all,\n",
    "            hmdb_exp_positive,\n",
    "            hmdb_exp_negative,\n",
    "            hmdb_theo_positive,\n",
    "            hmdb_theo_negative,\n",
    "            mona_exp_positive,\n",
    "            mona_exp_negative,\n",
    "            'negative',\n",
    "            'theo'\n",
    "           )"
   ]
  },
  {
   "cell_type": "code",
   "execution_count": null,
   "metadata": {},
   "outputs": [],
   "source": [
    "### not now ###\n",
    "# 8. Generating custom MS2 database using known spotted compounds.\n",
    "for ds, polarity in spotted_ds_id_in.items():    \n",
    "    primary_loop(list(cm3_stds_df.name.unique()),\n",
    "                 ds,\n",
    "                 'I_spotted_standards',\n",
    "                 polarity,\n",
    "                 'intermediate/sirius_out/exp_positive.pickle',\n",
    "                 'intermediate/sirius_out/theo_positive.pickle',\n",
    "                 'intermediate/sirius_out/exp_negative.pickle',\n",
    "                 'intermediate/sirius_out/theo_negative.pickle',\n",
    "                 'intermediate/databases/ref_expt_df.pickle',\n",
    "                 'intermediate/databases/ref_theo_df.pickle'\n",
    "                 )"
   ]
  },
  {
   "cell_type": "code",
   "execution_count": null,
   "metadata": {},
   "outputs": [],
   "source": [
    "### not now ###\n",
    "# 9. Running and interpreting the METASPACE MSMS results.\n",
    "out_dict_list = []\n",
    "for ds, polarity in spotted_ds_id_in.items():\n",
    "    x = copy_beta(ds, 'M', 'ds')\n",
    "    out_dict_list.append(x)\n",
    "    \n",
    "out_df = pd.DataFrame(out_dict_list)\n",
    "out_df.to_pickle('I_spotted_standards/cm3_spotted_msms_df.pickle')"
   ]
  },
  {
   "cell_type": "code",
   "execution_count": null,
   "metadata": {},
   "outputs": [],
   "source": []
  },
  {
   "cell_type": "code",
   "execution_count": 16,
   "metadata": {
    "scrolled": true
   },
   "outputs": [
    {
     "name": "stdout",
     "output_type": "stream",
     "text": [
      "2020-05-14_16h32m01s  Counter:  11\n"
     ]
    }
   ],
   "source": [
    "## Placeholder to develop plotting function below\n",
    "## Downloads results for getting psuedo-MS/MS spectra from METASAPCE\n",
    "from results_from_metaspace_msms_process import reporting_loop\n",
    "\n",
    "reporting_loop('2020-03-12_17h55m21s',\n",
    "               '2020-05-13_17h50m21s',\n",
    "               '2020-05-14_16h32m01s',\n",
    "               'TEMP_to_delete_pre_publish/reporting/',\n",
    "               parent_and_fragment_req=True,\n",
    "               fdr_max=0.5,\n",
    "               save_image=False)\n",
    "\n",
    "df = pd.read_pickle('TEMP_to_delete_pre_publish/reporting/2020-05-14_16h32m01s/ms2_2020-05-14_16h32m01s_db_2020-05-13_17h50m21s_ms1_2020-03-12_17h55m21s.pickle')"
   ]
  },
  {
   "cell_type": "code",
   "execution_count": 28,
   "metadata": {},
   "outputs": [
    {
     "name": "stdout",
     "output_type": "stream",
     "text": [
      "1   2020-05-14_16h32m01s\n"
     ]
    }
   ],
   "source": [
    "## Annoates results with cosine\n",
    "from results_processing_on_dl_results import annotate_cos_parent_fragment\n",
    "\n",
    "df = annotate_cos_parent_fragment('TEMP_to_delete_pre_publish/reporting',\n",
    "                                   ['2020-05-14_16h32m01s'], \n",
    "                                   'TEMP_to_delete_pre_publish/reporting/2020-05-14_16h32m01s/ms2_2020-05-14_16h32m01s_db_2020-05-13_17h50m21s_ms1_2020-03-12_17h55m21s.pickle')"
   ]
  },
  {
   "cell_type": "code",
   "execution_count": null,
   "metadata": {},
   "outputs": [],
   "source": [
    "# from 'input_path/ms2_ds_id/*.pickle' can get x(mz) and y(binary, fdr, msm, int)\n",
    "# to get: coloc from somewhere in existing code base\n",
    "# masked intensity from Lachlan"
   ]
  },
  {
   "cell_type": "code",
   "execution_count": null,
   "metadata": {},
   "outputs": [],
   "source": [
    "# 10. Generate psuedo-MS/MS spectra from ISF data.\n",
    "\n",
    "## For results above write a function!  Use test df for now.\n",
    "## Folders by ds_id, then group by hmdb_id\n",
    "## x = mz, y = binary (annotated or not), FDR, MSM, Colocalization, \n",
    "## Intensity from total ion image, Masked intensity (above)\n",
    "\n",
    "## To be implemented by someone else?\n",
    "## Execute fxn(list(spotted_cmpds_df.id))"
   ]
  },
  {
   "cell_type": "code",
   "execution_count": 29,
   "metadata": {},
   "outputs": [],
   "source": [
    "def spectral_encoder(df, ds_id, name, y_to_plot):\n",
    "    # Generates a MS/MS spectra as [(mz, value)1...(mz, value)n]\n",
    "    # where n maybe: \"binary\", \"fdr\", \"msm\", \"coloc\", \"intensity\"\n",
    "    # or \"specific_intensity\".\n",
    "    df = df[(df.ds_id == ds_id)&(df.id_x == name)]\n",
    "    df = df.sort_values(by=['mz'])\n",
    "    if y_to_plot == 'binary':\n",
    "        return list(df.apply(lambda row: (row.mz, 1), axis=1))\n",
    "    elif y_to_plot == 'fdr':\n",
    "        return list(df.apply(lambda row: (row.mz, 1/row[y_to_plot]), axis=1))\n",
    "    else:\n",
    "        return list(df.apply(lambda row: (row.mz, row[y_to_plot]), axis=1))"
   ]
  },
  {
   "cell_type": "code",
   "execution_count": 31,
   "metadata": {},
   "outputs": [],
   "source": [
    "test_bin = spectral_encoder(df, '2020-05-14_16h32m01s', 'HMDB0010382', 'binary')\n",
    "test_fdr = spectral_encoder(df, '2020-05-14_16h32m01s', 'HMDB0010382', 'fdr')\n",
    "test_msm = spectral_encoder(df, '2020-05-14_16h32m01s', 'HMDB0010382', 'msm')\n",
    "test_int = spectral_encoder(df, '2020-05-14_16h32m01s', 'HMDB0010382', 'intensity')\n",
    "test_cos = spectral_encoder(df, '2020-05-14_16h32m01s', 'HMDB0010382', 'cos')"
   ]
  },
  {
   "cell_type": "code",
   "execution_count": 34,
   "metadata": {},
   "outputs": [
    {
     "name": "stdout",
     "output_type": "stream",
     "text": [
      "(<Figure size 432x288 with 1 Axes>, <matplotlib.axes._subplots.AxesSubplot object at 0x1a28ad0240>)\n",
      "(<Figure size 432x288 with 1 Axes>, <matplotlib.axes._subplots.AxesSubplot object at 0x1a28b44208>)\n",
      "(<Figure size 432x288 with 1 Axes>, <matplotlib.axes._subplots.AxesSubplot object at 0x1a28b76eb8>)\n",
      "(<Figure size 432x288 with 1 Axes>, <matplotlib.axes._subplots.AxesSubplot object at 0x1a28bb5ba8>)\n",
      "(<Figure size 432x288 with 1 Axes>, <matplotlib.axes._subplots.AxesSubplot object at 0x1a28bf1b00>)\n"
     ]
    },
    {
     "data": {
      "image/png": "[encoded data removed]",
      "text/plain": [
       "<Figure size 432x288 with 1 Axes>"
      ]
     },
     "metadata": {
      "needs_background": "light"
     },
     "output_type": "display_data"
    },
    {
     "data": {
      "image/png": "[encoded data removed]",
      "text/plain": [
       "<Figure size 432x288 with 1 Axes>"
      ]
     },
     "metadata": {
      "needs_background": "light"
     },
     "output_type": "display_data"
    },
    {
     "data": {
      "image/png": "[encoded data removed]",
      "text/plain": [
       "<Figure size 432x288 with 1 Axes>"
      ]
     },
     "metadata": {
      "needs_background": "light"
     },
     "output_type": "display_data"
    },
    {
     "data": {
      "image/png": "[encoded data removed]",
      "text/plain": [
       "<Figure size 432x288 with 1 Axes>"
      ]
     },
     "metadata": {
      "needs_background": "light"
     },
     "output_type": "display_data"
    },
    {
     "data": {
      "image/png": "[encoded data removed]",
      "text/plain": [
       "<Figure size 432x288 with 1 Axes>"
      ]
     },
     "metadata": {
      "needs_background": "light"
     },
     "output_type": "display_data"
    }
   ],
   "source": [
    "to_print = {'binary': test_bin, 'fdr': test_fdr, 'msm': test_msm,\n",
    "           'intensity': test_int, 'cos': test_cos}\n",
    "for title, spectra in to_print.items():\n",
    "    print(plot_spectra(spectra, title))"
   ]
  },
  {
   "cell_type": "code",
   "execution_count": 35,
   "metadata": {},
   "outputs": [
    {
     "data": {
      "text/plain": [
       "529.1399999999994"
      ]
     },
     "execution_count": 35,
     "metadata": {},
     "output_type": "execute_result"
    }
   ],
   "source": [
    "20000-19470.86\n"
   ]
  },
  {
   "cell_type": "code",
   "execution_count": null,
   "metadata": {},
   "outputs": [],
   "source": [
    "# 11. Compare predicted, experimental, and psuedo-MS/MS spectra."
   ]
  },
  {
   "cell_type": "code",
   "execution_count": null,
   "metadata": {},
   "outputs": [],
   "source": [
    "df1 = pd.DataFrame()\n",
    "df1['path_1'] = glob.glob(ref_expt_pos + '/**/*.ms', recursive=True)\n",
    "df1['name'] = df1.path_1.apply(lambda x: x.split(\"/\")[-1])\n",
    "\n",
    "df2 = pd.DataFrame()\n",
    "df2['path_2'] = glob.glob(ref_theo_pos + '/**/*.ms', recursive=True)\n",
    "df2['name'] = df2.path_2.apply(lambda x: x.split(\"/\")[-1])\n",
    "\n",
    "df_pos = df1.merge(df2, how='outer', on='name')"
   ]
  },
  {
   "cell_type": "code",
   "execution_count": null,
   "metadata": {},
   "outputs": [],
   "source": [
    "df1 = pd.DataFrame()\n",
    "df1['path_1'] = glob.glob(ref_expt_neg + '/**/*.ms', recursive=True)\n",
    "df1['name'] = df1.path_1.apply(lambda x: x.split(\"/\")[-1])\n",
    "\n",
    "df2 = pd.DataFrame()\n",
    "df2['path_2'] = glob.glob(ref_theo_neg + '/**/*.ms', recursive=True)\n",
    "df2['name'] = df2.path_2.apply(lambda x: x.split(\"/\")[-1])\n",
    "\n",
    "df_neg = df1.merge(df2, how='outer', on='name')"
   ]
  },
  {
   "cell_type": "code",
   "execution_count": null,
   "metadata": {},
   "outputs": [],
   "source": [
    "df_neg.head(4)"
   ]
  },
  {
   "cell_type": "code",
   "execution_count": null,
   "metadata": {},
   "outputs": [],
   "source": [
    "# 12. Plot examples."
   ]
  },
  {
   "cell_type": "code",
   "execution_count": 33,
   "metadata": {},
   "outputs": [],
   "source": [
    "def plot_spectra(list_tup, title, invert_y=False):\n",
    "    mzs = [x[0] for x in list_tup]\n",
    "    \n",
    "    if invert_y == False:\n",
    "        ints = [x[1] for x in list_tup]\n",
    "    else:\n",
    "        ints = [x[1]*-1 for x in list_tup]\n",
    "    \n",
    "    \n",
    "    fig, ax = plt.subplots()\n",
    "    ax.stem(mzs, ints ,markerfmt=' ')\n",
    "    plt.title(title)\n",
    "    plt.xlabel('m/z (Da)')\n",
    "    plt.ylabel('int (Arb.)')\n",
    "    return fig, ax"
   ]
  },
  {
   "cell_type": "code",
   "execution_count": null,
   "metadata": {},
   "outputs": [],
   "source": [
    "m = df_pos.sort_values(by=['cos'], ascending=False).iloc[0,:].path_1"
   ]
  },
  {
   "cell_type": "code",
   "execution_count": null,
   "metadata": {},
   "outputs": [],
   "source": [
    "# 12. Pick winners and carry well-behaved molecules forward.\n",
    "hits = []\n",
    "well_behaved_hits = cm3_stds_df[cm3_stds_df.id.isin(hits)].copy(deep=True)\n",
    "well_behaved_hits.to_pickle('intermediate/val_spotted.pickle')"
   ]
  }
 ],
 "metadata": {
  "kernelspec": {
   "display_name": "Python 3",
   "language": "python",
   "name": "python3"
  },
  "language_info": {
   "codemirror_mode": {
    "name": "ipython",
    "version": 3
   },
   "file_extension": ".py",
   "mimetype": "text/x-python",
   "name": "python",
   "nbconvert_exporter": "python",
   "pygments_lexer": "ipython3",
   "version": "3.6.8"
  }
 },
 "nbformat": 4,
 "nbformat_minor": 2
}
