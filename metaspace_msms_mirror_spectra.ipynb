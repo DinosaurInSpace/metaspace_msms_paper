{
 "cells": [
  {
   "cell_type": "code",
   "execution_count": 1,
   "metadata": {},
   "outputs": [],
   "source": [
    "%load_ext autoreload\n",
    "%autoreload 2"
   ]
  },
  {
   "cell_type": "code",
   "execution_count": 2,
   "metadata": {},
   "outputs": [],
   "source": [
    "import pandas as pd\n",
    "import numpy as np\n",
    "import glob\n",
    "from matplotlib import pyplot as plt\n",
    "\n",
    "from results_from_metaspace_msms_process import reporting_loop\n",
    "from results_processing_on_dl_results import annotate_cos_parent_fragment\n",
    "from results_processing_on_dl_results import spectral_encoder\n",
    "from results_processing_on_dl_results import ref_spectra_encoder"
   ]
  },
  {
   "cell_type": "markdown",
   "metadata": {},
   "source": [
    "This notebook will a) download an existing METASPACE MS/MS report from the server provided ds_id and db_id and then b) generate psuedo-MS/MS spectra from the report, and c) compare them versus reference MS/MS from core_metabolome_v3\n",
    "\n",
    "Generally, a user will only need to update the first 6 variables in \n",
    "in cell \"## 2. Download METASPACE MS/MS report from METASPACE\" to \n",
    "execute.  \n",
    "\n",
    "Graph output is a) printed to notebook b) saved to local directory, \n",
    "and c) returned as variable from plotting function."
   ]
  },
  {
   "cell_type": "code",
   "execution_count": 37,
   "metadata": {},
   "outputs": [],
   "source": [
    "## 0. Metaspace credentials need to be local machine at path below\n",
    "## with format shown:\n",
    "path = \"/Users/dis/.metaspace.json\"\n",
    "format_of_json = {\"email\": \"<email>\",\n",
    "                  \"password\": \"<password>\",\n",
    "                  \"api_key\": \"<api_key>\"}"
   ]
  },
  {
   "cell_type": "code",
   "execution_count": 38,
   "metadata": {},
   "outputs": [],
   "source": [
    "## 1. Obtain eference spectra from core_metabolome_v3\n",
    "# Generated here: http://localhost:8889/notebooks/PycharmProjects/word2vec/trees_to_msms_df.ipynb\n",
    "ref_spectra_df = pd.read_pickle(\"input/cm3_reference_spectra_df.pickle\")"
   ]
  },
  {
   "cell_type": "code",
   "execution_count": 39,
   "metadata": {
    "scrolled": true
   },
   "outputs": [
    {
     "name": "stdout",
     "output_type": "stream",
     "text": [
      "2020-05-14_16h32m01s  Counter:  11\n",
      "1   2020-05-14_16h32m01s\n"
     ]
    }
   ],
   "source": [
    "## 2. Download METASPACE MS/MS report from METASPACE\n",
    "# Dependency: \n",
    "\n",
    "# Replace variables below for your dataset!\n",
    "original_ds_id_on_prod = '2020-03-12_17h55m21s'  # Update to run!\n",
    "db_id_on_beta = '2020-05-13_17h50m21s'  # Update to run!\n",
    "ds_id_on_beta = '2020-05-14_16h32m01s'  # Update to run!\n",
    "path_to_reports = 'TEMP/reporting/'  # Update to run!\n",
    "polarity = ['positive', 'negative'][0]  # Update to run!\n",
    "psuedo_y_axis = ['binary', 'fdr', 'msm', 'cos', 'intensity'][0]\n",
    "\n",
    "# Download results\n",
    "reporting_loop(original_ds_id_on_prod,\n",
    "               db_id_on_beta,\n",
    "               ds_id_on_beta,\n",
    "               path_to_reports,\n",
    "               parent_and_fragment_req=True,\n",
    "               fdr_max=0.5,\n",
    "               save_image=False)\n",
    "\n",
    "# Annotate results with cosine similarity\n",
    "df_path = glob.glob(path_to_reports + ds_id_on_beta + \"/*.pickle\")[0]\n",
    "df = pd.read_pickle(df_path)\n",
    "df = annotate_cos_parent_fragment(path_to_reports,\n",
    "                                  [ds_id_on_beta], \n",
    "                                  df_path)"
   ]
  },
  {
   "cell_type": "code",
   "execution_count": 40,
   "metadata": {},
   "outputs": [],
   "source": [
    "## 3. Generate psuedo-MS/MS spectra from ISF data.\n",
    "ds_spectra_dict = {}\n",
    "par_df = df[df.par_or_frag == 'P'].copy(deep=True)\n",
    "par_df['psuedo_msms'] = par_df.apply(lambda x: spectral_encoder(df,\n",
    "                                                               x.ds_id,\n",
    "                                                               x.id_x,\n",
    "                                                               psuedo_y_axis),\n",
    "                                    axis=1\n",
    "                                    ) \n",
    "par_df['polarity'] = polarity"
   ]
  },
  {
   "cell_type": "code",
   "execution_count": 41,
   "metadata": {},
   "outputs": [],
   "source": [
    "def assign_adduct(formula, polarity):\n",
    "    # Assigns adduct for METASPACE MS/MS results.\n",
    "    # Only supports: ['M-H-', 'M+H+', 'M+K+', 'M+Na+']\n",
    "    if polarity == \"negative\":\n",
    "        return 'M-H-'\n",
    "    elif formula.find('Na') == True:\n",
    "        return 'M+Na+'\n",
    "    elif formula.find('K') == True:\n",
    "        return 'M+K+'\n",
    "    else:\n",
    "        return 'M+H+'"
   ]
  },
  {
   "cell_type": "code",
   "execution_count": 42,
   "metadata": {},
   "outputs": [],
   "source": [
    "## 4. Find matches between psuedo-MS/MS and reference MS/MS spectra\n",
    "par_df['adduct'] = par_df.apply(lambda x: assign_adduct(x.formula, \n",
    "                                                        x.polarity), \n",
    "                                axis=1)\n",
    "par_df = par_df.rename(columns={\"id_x\":'id'})\n",
    "\n",
    "temp_df = ref_spectra_df[ref_spectra_df.id.isin(list(par_df.id))]\n",
    "temp_df = temp_df[temp_df.polarity == par_df.polarity[0]]\n",
    "\n",
    "df1 = par_df[['id', 'adduct', 'psuedo_msms', 'polarity', 'ds_id']].copy(deep=True)\n",
    "df2 = temp_df[['id', 'adduct', 'spectra']]\n",
    "to_plot_df = df1.merge(df2, how=\"left\", on=['id', 'adduct'])"
   ]
  },
  {
   "cell_type": "code",
   "execution_count": 43,
   "metadata": {},
   "outputs": [
    {
     "data": {
      "text/html": [
       "<div>\n",
       "<style scoped>\n",
       "    .dataframe tbody tr th:only-of-type {\n",
       "        vertical-align: middle;\n",
       "    }\n",
       "\n",
       "    .dataframe tbody tr th {\n",
       "        vertical-align: top;\n",
       "    }\n",
       "\n",
       "    .dataframe thead th {\n",
       "        text-align: right;\n",
       "    }\n",
       "</style>\n",
       "<table border=\"1\" class=\"dataframe\">\n",
       "  <thead>\n",
       "    <tr style=\"text-align: right;\">\n",
       "      <th></th>\n",
       "      <th>id</th>\n",
       "      <th>adduct</th>\n",
       "      <th>psuedo_msms</th>\n",
       "      <th>polarity</th>\n",
       "      <th>ds_id</th>\n",
       "      <th>spectra</th>\n",
       "    </tr>\n",
       "  </thead>\n",
       "  <tbody>\n",
       "    <tr>\n",
       "      <td>0</td>\n",
       "      <td>HMDB0010382</td>\n",
       "      <td>M+H+</td>\n",
       "      <td>[(104.10695125566524, 1), (184.07328163766385,...</td>\n",
       "      <td>positive</td>\n",
       "      <td>2020-05-14_16h32m01s</td>\n",
       "      <td>[(98.985107, 624.0), (104.107414, 5604.0), (12...</td>\n",
       "    </tr>\n",
       "    <tr>\n",
       "      <td>1</td>\n",
       "      <td>HMDB0008578</td>\n",
       "      <td>M+H+</td>\n",
       "      <td>[(104.10695125566524, 1), (184.07328163766385,...</td>\n",
       "      <td>positive</td>\n",
       "      <td>2020-05-14_16h32m01s</td>\n",
       "      <td>[(86.09697, 15.0), (104.10753000000001, 15.0),...</td>\n",
       "    </tr>\n",
       "  </tbody>\n",
       "</table>\n",
       "</div>"
      ],
      "text/plain": [
       "            id adduct                                        psuedo_msms  \\\n",
       "0  HMDB0010382   M+H+  [(104.10695125566524, 1), (184.07328163766385,...   \n",
       "1  HMDB0008578   M+H+  [(104.10695125566524, 1), (184.07328163766385,...   \n",
       "\n",
       "   polarity                 ds_id  \\\n",
       "0  positive  2020-05-14_16h32m01s   \n",
       "1  positive  2020-05-14_16h32m01s   \n",
       "\n",
       "                                             spectra  \n",
       "0  [(98.985107, 624.0), (104.107414, 5604.0), (12...  \n",
       "1  [(86.09697, 15.0), (104.10753000000001, 15.0),...  "
      ]
     },
     "execution_count": 43,
     "metadata": {},
     "output_type": "execute_result"
    }
   ],
   "source": [
    "to_plot_df"
   ]
  },
  {
   "cell_type": "code",
   "execution_count": 46,
   "metadata": {},
   "outputs": [
    {
     "data": {
      "image/png": "[encoded data removed]",
      "text/plain": [
       "<Figure size 432x288 with 1 Axes>"
      ]
     },
     "metadata": {
      "needs_background": "light"
     },
     "output_type": "display_data"
    },
    {
     "data": {
      "image/png": "[encoded data removed]",
      "text/plain": [
       "<Figure size 432x288 with 1 Axes>"
      ]
     },
     "metadata": {
      "needs_background": "light"
     },
     "output_type": "display_data"
    }
   ],
   "source": [
    "## 5. Plot psuedo-MS/MS and reference MS/MS spectra\n",
    "\n",
    "def plot_spectra(df, out_path, psuedo_y_axis):\n",
    "    # Plots mirrored MS/MS spectra!\n",
    "    \n",
    "    ref = list(df.spectra)\n",
    "    test = list(df.psuedo_msms)\n",
    "    \n",
    "    mzs = [x[0] for x in ref] + [x[0] for x in test]\n",
    "    \n",
    "    y_ref = [x[1] for x in ref]\n",
    "    y_test = [x[1] for x in test]\n",
    "    \n",
    "    y_ref_norm = [x/max(y_ref)*100 for x in y_ref]\n",
    "    y_test_norm = [x/max(y_test)*-100 for x in y_test]\n",
    "    \n",
    "    ys = y_ref_norm + y_test_norm\n",
    "    \n",
    "    title = df.ds_id + \"_\" + df.id + \"_\" + df.polarity + \"_\" + df.adduct\n",
    "    \n",
    "    fig, ax = plt.subplots()\n",
    "    ax.stem(mzs, ys ,markerfmt=' ')\n",
    "    plt.title(title)\n",
    "    plt.xlabel('m/z (Da)')\n",
    "    plt.ylabel(\"top(ref.): intensity, bottom(pMSMS): \" + psuedo_y_axis)\n",
    "    plt.ylim((-100, 100))\n",
    "    plt.savefig(out_path + title)\n",
    "    plt.show()\n",
    "    return fig, ax\n",
    "\n",
    "\n",
    "plots = to_plot_df.apply(lambda x: plot_spectra(x,\n",
    "                                                \"temp/spectra\",\n",
    "                                                psuedo_y_axis), axis=1)"
   ]
  },
  {
   "cell_type": "code",
   "execution_count": 47,
   "metadata": {},
   "outputs": [
    {
     "data": {
      "text/plain": [
       "0    (Figure(432x288), AxesSubplot(0.125,0.125;0.77...\n",
       "1    (Figure(432x288), AxesSubplot(0.125,0.125;0.77...\n",
       "dtype: object"
      ]
     },
     "execution_count": 47,
     "metadata": {},
     "output_type": "execute_result"
    }
   ],
   "source": [
    "plots"
   ]
  }
 ],
 "metadata": {
  "kernelspec": {
   "display_name": "Python 3",
   "language": "python",
   "name": "python3"
  },
  "language_info": {
   "codemirror_mode": {
    "name": "ipython",
    "version": 3
   },
   "file_extension": ".py",
   "mimetype": "text/x-python",
   "name": "python",
   "nbconvert_exporter": "python",
   "pygments_lexer": "ipython3",
   "version": "3.6.8"
  }
 },
 "nbformat": 4,
 "nbformat_minor": 2
}
