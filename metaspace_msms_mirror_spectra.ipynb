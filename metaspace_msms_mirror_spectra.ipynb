{
 "cells": [
  {
   "cell_type": "code",
   "execution_count": 36,
   "metadata": {},
   "outputs": [
    {
     "name": "stdout",
     "output_type": "stream",
     "text": [
      "The autoreload extension is already loaded. To reload it, use:\n",
      "  %reload_ext autoreload\n"
     ]
    }
   ],
   "source": [
    "%load_ext autoreload\n",
    "%autoreload 2"
   ]
  },
  {
   "cell_type": "code",
   "execution_count": 55,
   "metadata": {},
   "outputs": [],
   "source": [
    "import pandas as pd\n",
    "import numpy as np\n",
    "import glob\n",
    "from results_from_metaspace_msms_process import reporting_loop\n",
    "from results_processing_on_dl_results import annotate_cos_parent_fragment\n",
    "from results_processing_on_dl_results import spectral_encoder\n",
    "from results_processing_on_dl_results import ref_spectra_encoder"
   ]
  },
  {
   "cell_type": "markdown",
   "metadata": {},
   "source": [
    "This notebook will a) download an existing METASPACE MS/MS report from the server provided ds_id and db_id and then b) generate psuedo-MS/MS spectra from the report, and c) compare them versus reference MS/MS from core_metabolome_v3"
   ]
  },
  {
   "cell_type": "code",
   "execution_count": 38,
   "metadata": {},
   "outputs": [
    {
     "data": {
      "text/plain": [
       "'tbd'"
      ]
     },
     "execution_count": 38,
     "metadata": {},
     "output_type": "execute_result"
    }
   ],
   "source": [
    "## 1. Check path to reference spectra from core_metabolome_v3\n",
    "path_positive_ref_spectra = 'tbd1'\n",
    "path_negative_ref_spectra = 'tbd2'"
   ]
  },
  {
   "cell_type": "code",
   "execution_count": 42,
   "metadata": {
    "scrolled": true
   },
   "outputs": [
    {
     "name": "stdout",
     "output_type": "stream",
     "text": [
      "2020-05-14_16h32m01s  Counter:  11\n",
      "1   2020-05-14_16h32m01s\n"
     ]
    }
   ],
   "source": [
    "## 2. Download METASPACE MS/MS report from METASPACE\n",
    "\n",
    "# Replace variables below for your dataset!\n",
    "original_ds_id_on_prod = '2020-03-12_17h55m21s'\n",
    "db_id_on_beta = '2020-05-13_17h50m21s' \n",
    "ds_id_on_beta = '2020-05-14_16h32m01s'\n",
    "path_to_reports = 'TEMP/reporting/'\n",
    "\n",
    "# Download results\n",
    "reporting_loop(original_ds_id_on_prod,\n",
    "               db_id_on_beta,\n",
    "               ds_id_on_beta,\n",
    "               path_to_reports,\n",
    "               parent_and_fragment_req=True,\n",
    "               fdr_max=0.5,\n",
    "               save_image=False)\n",
    "\n",
    "# Annotate results with cosine similarity\n",
    "df_path = glob.glob(path_to_reports + ds_id_on_beta + \"/*.pickle\")[0]\n",
    "df = pd.read_pickle(df_path)\n",
    "df = annotate_cos_parent_fragment(path_to_reports,\n",
    "                                  [ds_id_on_beta], \n",
    "                                  df_path)"
   ]
  },
  {
   "cell_type": "code",
   "execution_count": 45,
   "metadata": {},
   "outputs": [],
   "source": [
    "## 3. Generate psuedo-MS/MS spectra from ISF data.\n",
    "\n",
    "ds_spectra_dict = {}\n",
    "psuedo_y_axis_list = ['binary', 'fdr', 'msm', 'cos', 'intensity']\n",
    "\n",
    "# Change psuedo-MS/MS y-axis input here:\n",
    "psuedo_y_axis = psuedo_y_axis_list[0]\n",
    "par_df = df[df.par_or_frag == 'P'].copy(deep=True)\n",
    "par_df['psuedo_msms'] = par_df.apply(lambda x: spectral_encoder(df,\n",
    "                                                               x.ds_id,\n",
    "                                                               x.id_x,\n",
    "                                                               psuedo_y_axis),\n",
    "                                    axis=1\n",
    "                                    ) "
   ]
  },
  {
   "cell_type": "code",
   "execution_count": 53,
   "metadata": {},
   "outputs": [
    {
     "data": {
      "text/html": [
       "<div>\n",
       "<style scoped>\n",
       "    .dataframe tbody tr th:only-of-type {\n",
       "        vertical-align: middle;\n",
       "    }\n",
       "\n",
       "    .dataframe tbody tr th {\n",
       "        vertical-align: top;\n",
       "    }\n",
       "\n",
       "    .dataframe thead th {\n",
       "        text-align: right;\n",
       "    }\n",
       "</style>\n",
       "<table border=\"1\" class=\"dataframe\">\n",
       "  <thead>\n",
       "    <tr style=\"text-align: right;\">\n",
       "      <th></th>\n",
       "      <th>adduct</th>\n",
       "      <th>cos</th>\n",
       "      <th>ds_id</th>\n",
       "      <th>fdr</th>\n",
       "      <th>formula</th>\n",
       "      <th>id_x</th>\n",
       "      <th>id_y</th>\n",
       "      <th>intensity</th>\n",
       "      <th>msm</th>\n",
       "      <th>mz</th>\n",
       "      <th>n_frag_y</th>\n",
       "      <th>name</th>\n",
       "      <th>par_formula</th>\n",
       "      <th>par_frag</th>\n",
       "      <th>par_or_frag</th>\n",
       "      <th>parent_y</th>\n",
       "      <th>psuedo_msms</th>\n",
       "    </tr>\n",
       "  </thead>\n",
       "  <tbody>\n",
       "    <tr>\n",
       "      <td>0</td>\n",
       "      <td>[M]+</td>\n",
       "      <td>1.0</td>\n",
       "      <td>2020-05-14_16h32m01s</td>\n",
       "      <td>0.05</td>\n",
       "      <td>C24H51NO7P</td>\n",
       "      <td>HMDB0010382</td>\n",
       "      <td>1</td>\n",
       "      <td>31429.802734</td>\n",
       "      <td>0.980520</td>\n",
       "      <td>496.339727</td>\n",
       "      <td>4</td>\n",
       "      <td>LysoPC(16:0)</td>\n",
       "      <td>C24H51NO7P</td>\n",
       "      <td>7p</td>\n",
       "      <td>P</td>\n",
       "      <td>1</td>\n",
       "      <td>[(104.10695125566524, 1), (184.07328163766385,...</td>\n",
       "    </tr>\n",
       "    <tr>\n",
       "      <td>5</td>\n",
       "      <td>[M]+</td>\n",
       "      <td>1.0</td>\n",
       "      <td>2020-05-14_16h32m01s</td>\n",
       "      <td>0.05</td>\n",
       "      <td>C52H101NO8P</td>\n",
       "      <td>HMDB0008578</td>\n",
       "      <td>1</td>\n",
       "      <td>6263.323242</td>\n",
       "      <td>0.955263</td>\n",
       "      <td>898.725893</td>\n",
       "      <td>5</td>\n",
       "      <td>PC(22:1(13Z)/22:1(13Z))</td>\n",
       "      <td>C52H101NO8P</td>\n",
       "      <td>10p</td>\n",
       "      <td>P</td>\n",
       "      <td>1</td>\n",
       "      <td>[(104.10695125566524, 1), (184.07328163766385,...</td>\n",
       "    </tr>\n",
       "  </tbody>\n",
       "</table>\n",
       "</div>"
      ],
      "text/plain": [
       "  adduct  cos                 ds_id   fdr      formula         id_x  id_y  \\\n",
       "0   [M]+  1.0  2020-05-14_16h32m01s  0.05   C24H51NO7P  HMDB0010382     1   \n",
       "5   [M]+  1.0  2020-05-14_16h32m01s  0.05  C52H101NO8P  HMDB0008578     1   \n",
       "\n",
       "      intensity       msm          mz  n_frag_y                     name  \\\n",
       "0  31429.802734  0.980520  496.339727         4             LysoPC(16:0)   \n",
       "5   6263.323242  0.955263  898.725893         5  PC(22:1(13Z)/22:1(13Z))   \n",
       "\n",
       "   par_formula par_frag par_or_frag  parent_y  \\\n",
       "0   C24H51NO7P       7p           P         1   \n",
       "5  C52H101NO8P      10p           P         1   \n",
       "\n",
       "                                         psuedo_msms  \n",
       "0  [(104.10695125566524, 1), (184.07328163766385,...  \n",
       "5  [(104.10695125566524, 1), (184.07328163766385,...  "
      ]
     },
     "execution_count": 53,
     "metadata": {},
     "output_type": "execute_result"
    }
   ],
   "source": [
    "par_df"
   ]
  },
  {
   "cell_type": "code",
   "execution_count": 31,
   "metadata": {},
   "outputs": [],
   "source": [
    "## 4. Find matches between psuedo-MS/MS and reference MS/MS spectra\n",
    "\n",
    "# Set the polarity\n",
    "polarities = ['positive', 'negative']\n",
    "polarity = polarities[1]\n",
    "\n",
    "par_df['reference_msms'] = par_df.apply(lambda x: find_ref(x.id_x,\n",
    "                                                           x.formula,\n",
    "                                                           polarity,\n",
    "                                                           path_positive_ref_spectra,\n",
    "                                                           path_negative_ref_spectra),\n",
    "                                        axis=1)\n",
    "\n",
    "# Search spectral database keyed on id_x from par_df\n",
    "# Check for adduct somehow? \"K\" or \"Na\" in formula\n",
    "# Format spectra and join as column"
   ]
  },
  {
   "cell_type": "code",
   "execution_count": 54,
   "metadata": {},
   "outputs": [],
   "source": [
    "def find_ref(name, formula, polarity, path_positive_ref_spectra, \n",
    "             path_negative_ref_spectra):\n",
    "    # Finds reference spectra matching pseudo-MS/MS spectra\n",
    "    # Only [M + H+]+, [M + Na+]+, [M + K+]+, and [M - H+]- supported\n",
    "    if polarity == 'positive':\n",
    "        spectral_libary = glob.glob(path_positive_ref_spectra)\n",
    "    if polarity == 'negative':\n",
    "        spectral_libary = glob.glob(path_negative_ref_spectra)\n",
    "    matches = [s for s in spectral_libary if name in s]\n",
    "    \n",
    "    if matches == []:\n",
    "        return None\n",
    "    else:\n",
    "        match_dict = {}\n",
    "        for match in matches:\n",
    "            if match.find['Na'] == True:\n",
    "                match_dict['Na'] == match\n",
    "            elif match.find['K'] == True:\n",
    "                match_dict['Na'] == match\n",
    "            else:\n",
    "                match_dict['H'] == match\n",
    "\n",
    "        if formula.find['Na'] == True:\n",
    "            return ref_spectra_encoder(match_dict['Na'])\n",
    "        elif formula.find['K'] == True:\n",
    "            return ref_spectra_encoder(match_dict['K'])\n",
    "        else:\n",
    "            return ref_spectra_encoder(match_dict['H'])"
   ]
  },
  {
   "cell_type": "code",
   "execution_count": null,
   "metadata": {},
   "outputs": [],
   "source": [
    "## 5. Plot psuedo-MS/MS and reference MS/MS spectra\n",
    "par_df.apply(lambda x: plot_spectra(x.reference_msms,\n",
    "                                    x.psuedo_msms\n",
    "                                   \"temp/spectra\",\n",
    "                                   psuedo_y_axis,\n",
    "                                   polarity,\n",
    "                                   x.id_x,\n",
    "                                   ds_id_on_beta), \n",
    "             axis=1)"
   ]
  },
  {
   "cell_type": "code",
   "execution_count": 56,
   "metadata": {},
   "outputs": [],
   "source": [
    "def plot_spectra(ref_spectra, psuedo_spectra, out_path, \n",
    "                 psuedo_y_axis, polarity, id_x, ds_id_on_beta):\n",
    "    # Plots mirrored MS/MS spectra!\n",
    "    \n",
    "    mzs = [x[0] for x in ref_spectra] + [x[0] for x in psuedo_spectra]\n",
    "    ref_ys = [x[1] for x in ref_spectra]\n",
    "    psuedo_ys = [x[1]*-1 for x in psuedo_spectra]\n",
    "    ys = ref_ys + psuedo_ys\n",
    "    \n",
    "    fig, ax = plt.subplots()\n",
    "    ax.stem(mzs, ints ,markerfmt=' ')\n",
    "    plt.title(id_x + \" \" + polarity + \" ds_id_beta:\" + ds_id_on_beta)\n",
    "    plt.xlabel('m/z (Da)')\n",
    "    plt.ylabel(psuedo_y_axis)\n",
    "    plt.save_fig(out_path + id_x + polarity + ds_id_on_beta)\n",
    "    return fig, ax"
   ]
  },
  {
   "cell_type": "markdown",
   "metadata": {},
   "source": [
    "To do:\n",
    "1. Wait for consensus specrta to be generated.\n",
    "2. Rename them!\n",
    "3. Move to reference folder.\n",
    "4. Test workflow."
   ]
  }
 ],
 "metadata": {
  "kernelspec": {
   "display_name": "Python 3",
   "language": "python",
   "name": "python3"
  },
  "language_info": {
   "codemirror_mode": {
    "name": "ipython",
    "version": 3
   },
   "file_extension": ".py",
   "mimetype": "text/x-python",
   "name": "python",
   "nbconvert_exporter": "python",
   "pygments_lexer": "ipython3",
   "version": "3.6.8"
  }
 },
 "nbformat": 4,
 "nbformat_minor": 2
}
