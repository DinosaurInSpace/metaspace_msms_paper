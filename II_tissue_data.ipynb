{
 "cells": [
  {
   "cell_type": "code",
   "execution_count": null,
   "metadata": {},
   "outputs": [],
   "source": [
    "%load_ext autoreload\n",
    "%autoreload 2"
   ]
  },
  {
   "cell_type": "code",
   "execution_count": null,
   "metadata": {},
   "outputs": [],
   "source": [
    "import pandas as pd\n",
    "import numpy as np\n",
    "import requests\n",
    "import zipfile\n",
    "import glob\n",
    "import pickle\n",
    "import matplotlib.pyplot as plt\n",
    "\n",
    "from parse_reference_spectra import parse_gnps_json, output_loop\n",
    "from spectra_to_sirius import master_loop\n",
    "from clone_ds_to_beta import copy_beta\n",
    "from results_from_metaspace_msms_process import logon_metaspace\n",
    "from metaspace.sm_annotation_utils import SMInstance\n",
    "from results_from_metaspace_msms_process import split_data_frame_list\n",
    "from sirius_to_metaspace_db import primary_loop\n",
    "from cosine_spectra import score_alignment, read_ms_file\n",
    "from metaspace_msms_mirror_spectra import mirror_main"
   ]
  },
  {
   "cell_type": "markdown",
   "metadata": {},
   "source": [
    "Workflow steps on tissue data for METASAPCE MS/MS publication.\n",
    "\n",
    "https://github.com/DinosaurInSpace/metaspace_msms_paper/blob/master/README.md\n",
    "II. Steps 1-7"
   ]
  },
  {
   "cell_type": "code",
   "execution_count": null,
   "metadata": {},
   "outputs": [],
   "source": [
    "## 0. Load well behaved molecules from I.\n",
    "# well_behaved_hits = read_pickle('intermediate/val_spotted.pickle')\n",
    "\n",
    "# for testing:\n",
    "spotted_cmpds_df = pd.read_csv('input/spotted_cmpds.csv', sep=\"\\t\")"
   ]
  },
  {
   "cell_type": "code",
   "execution_count": null,
   "metadata": {},
   "outputs": [],
   "source": [
    "## 1. List of ds_ids and metadata for selected experiments.\n",
    "cmv3_wb_ds_name_dict = {'2016-09-21_16h07m45s': 'Technologie_ServierTES-WBrat-vehicle',\n",
    "                        '2017-05-17_19h49m04s': 'whole body xenograft (1) [RMS norm]',\n",
    "                        '2017-05-17_19h50m07s': 'wb xenograft trp pathway dosed- rms_corrected',\n",
    "                        '2017-05-29_07h28m52s': 'servier_TT_mouse_wb_fmpts_derivatization_CHCA',\n",
    "                        '2017-07-24_19h42m31s': 'Servier_Ctrl_mouse_wb_lateral_plane_9aa',\n",
    "                        '2017-07-26_18h25m14s': 'Servier_Ctrl_mouse_wb_median_plane_9aa',\n",
    "                        '2017-08-03_15h09m06s': 'Servier_Ctrl_mouse_wb_median_plane_chca',\n",
    "                        '2017-08-03_15h09m51s': 'Servier_Ctrl_mouse_wb_lateral_plane_chca',\n",
    "                        '2017-08-11_07h59m58s': 'Servier_Ctrl_mouse_wb_lateral_plane_DHB',\n",
    "                        '2017-08-11_08h01m02s': 'Servier_Ctrl_mouse_wb_median_plane_DHB'\n",
    "                        }"
   ]
  },
  {
   "cell_type": "code",
   "execution_count": null,
   "metadata": {
    "scrolled": true
   },
   "outputs": [],
   "source": [
    "wholebody_ds_df = pd.DataFrame()\n",
    "wholebody_ds_df['ds_id'] = cmv3_wb_ds_name_dict.keys()\n",
    "wholebody_ds_df['polarity'] = ['positive', 'positive', 'positive', \n",
    "                               'positive', 'negative', 'negative', \n",
    "                               'positive', 'positive', 'positive', \n",
    "                               'positive']\n",
    "wholebody_ds_df['group'] = ['Servier', 'Genentech', 'Genentech',\n",
    "                           'Servier', 'Servier', 'Servier',\n",
    "                           'Servier', 'Servier', 'Servier',\n",
    "                           'Servier']\n",
    "wholebody_ds_df['analyzer'] = 'FTICR'\n",
    "wholebody_ds_df['expt_type'] = 'wholebody'\n",
    "wholebody_ds_df['ds_id_in'] = wholebody_ds_df['ds_id']\n",
    "wholebody_ds_df['ds_id_out'] = None\n",
    "wholebody_ds_df['search'] = 'METASPACE_MSMS'\n",
    "wholebody_ds_df['name'] = cmv3_wb_ds_name_dict.values()\n",
    "\n",
    "wholebody_ds_df"
   ]
  },
  {
   "cell_type": "code",
   "execution_count": null,
   "metadata": {},
   "outputs": [],
   "source": [
    "## 2. Download METASPACE results.\n",
    "# Clones to beta and searches with cm3\n",
    "out_dict_list = []\n",
    "for ds in cmv3_wb_ds_pol_dict.keys():\n",
    "    x = copy_beta(ds, 'HNaKM', 'core_metabolome_v3')\n",
    "    out_dict_list.append(x)\n",
    "    \n",
    "out_df = pd.DataFrame(out_dict_list)\n",
    "out_df.to_pickle('intermediate/wholebody_cm3_df.pickle')"
   ]
  },
  {
   "cell_type": "code",
   "execution_count": null,
   "metadata": {},
   "outputs": [],
   "source": [
    "# Downloads results\n",
    "df_list = []\n",
    "for ms_ds_id in out_df.ds_id_out:\n",
    "    ds_id_in = list(out_df[out_df.ds_id_out == ms_ds_id].ds_id_in)[0]\n",
    "    sm = SMInstance(host='https://beta.metaspace2020.eu')\n",
    "    sm = logon_metaspace(sm)\n",
    "    ds = sm.dataset(id=ms_ds_id)\n",
    "    results_df = ds.results(database='core_metabolome_v3').reset_index()\n",
    "    results_df['ds_id_in'] = ds_id_in\n",
    "    df_list.append(results_df)"
   ]
  },
  {
   "cell_type": "code",
   "execution_count": null,
   "metadata": {},
   "outputs": [],
   "source": [
    "# Filters MS1 results for FDR <=0.2\n",
    "ms1_df = pd.concat(df_list)\n",
    "ms1_df = ms1_df[ms1_df.fdr <=0.2]\n",
    "ms1_df = ms1_df[['ds_id_in', 'moleculeIds']]\n",
    "ms1_df = split_data_frame_list(ms1_df, 'moleculeIds')"
   ]
  },
  {
   "cell_type": "code",
   "execution_count": null,
   "metadata": {},
   "outputs": [],
   "source": [
    "## 3. Generating custom MS2 database using observed compounds.\n",
    "for ds_id in list(wholebody_ds_df.ds_id):\n",
    "    limit_list = list(ms1_df[ms1_df.ds_id_in == ds_id].moleculeIds.unique())\n",
    "    polarity = list(wholebody_ds_df[wholebody_ds_df.ds_id == ds_id].polarity)[0]\n",
    "    primary_loop(limit_list,\n",
    "                 ds,\n",
    "                 'II_wholebody',\n",
    "                 polarity,\n",
    "                 'intermediate/sirius_out/exp_positive.pickle',\n",
    "                 'intermediate/sirius_out/theo_positive.pickle',\n",
    "                 'intermediate/sirius_out/exp_negative.pickle',\n",
    "                 'intermediate/sirius_out/theo_negative.pickle',\n",
    "                 'intermediate/databases/ref_expt_df.pickle',\n",
    "                 'intermediate/databases/ref_theo_df.pickle'\n",
    "                 )\n",
    "\n",
    "# Send databases to Vitaly for uploading"
   ]
  },
  {
   "cell_type": "code",
   "execution_count": null,
   "metadata": {},
   "outputs": [],
   "source": [
    "## 4. Running and interpreting the METASPACE MSMS results.\n",
    "from clone_ds_to_beta import copy_beta\n",
    "\n",
    "ori_ds_db = ['2016-09-21_16h07m45s',\n",
    "             '2017-05-17_19h49m04s',\n",
    "             '2017-05-17_19h50m07s',\n",
    "             '2017-05-29_07h28m52s',\n",
    "             '2017-07-24_19h42m31s',\n",
    "             '2017-07-26_18h25m14s',\n",
    "             '2017-08-03_15h09m06s',\n",
    "             '2017-08-03_15h09m51s',\n",
    "             '2017-08-11_07h59m58s',\n",
    "             '2017-08-11_08h01m02s']\n",
    "out_dict_list = []\n",
    "for ds in ori_ds_db:\n",
    "    print(ds)\n",
    "    x = copy_beta(ds, 'M', ds)\n",
    "    out_dict_list.append(x)\n",
    "    \n",
    "out_df = pd.DataFrame(out_dict_list)\n",
    "out_df.to_pickle('intermediate/wholebody_ms2_df.pickle')"
   ]
  },
  {
   "cell_type": "code",
   "execution_count": null,
   "metadata": {},
   "outputs": [],
   "source": [
    "wholebody_ds_df.update(out_df)"
   ]
  },
  {
   "cell_type": "code",
   "execution_count": null,
   "metadata": {},
   "outputs": [],
   "source": [
    "## 5. Generate colocalization weighted psuedo-MS/MS spectra from ISF data."
   ]
  },
  {
   "cell_type": "code",
   "execution_count": null,
   "metadata": {},
   "outputs": [],
   "source": [
    "# Test inputs, replace with actual data when available.\n",
    "original_ds_id_on_prod = '2020-03-12_17h55m21s'  # Update to run!\n",
    "db_id_on_beta = '2020-05-13_17h50m21s'  # Update to run!\n",
    "ds_id_on_beta = '2020-05-14_16h32m01s'  # Update to run!\n",
    "path_to_reports = 'TEMP/reporting/'  # Update to run!\n",
    "polarity = ['positive', 'negative'][0]  # Update to run!\n",
    "psuedo_y_axis = ['binary', 'fdr', 'msm', 'cos', 'intensity'][0]\n",
    "ref_spectra_df = pd.read_pickle(\"input/cm3_reference_spectra_df.pickle\")"
   ]
  },
  {
   "cell_type": "code",
   "execution_count": null,
   "metadata": {},
   "outputs": [],
   "source": [
    "# Real inputs as data becomes available\n",
    "original_ds_id_on_prod = None  # Update to run!\n",
    "db_id_on_beta = None  # Update to run!\n",
    "ds_id_on_beta = None  # Update to run!\n",
    "path_to_reports = 'TEMP/reporting/'  # Update to run!\n",
    "polarity = ['positive', 'negative'][0]  # Update to run!\n",
    "psuedo_y_axis = ['binary', 'fdr', 'msm', 'cos', 'intensity'][0]\n",
    "ref_spectra_df = pd.read_pickle(\"input/cm3_reference_spectra_df.pickle\")\n"
   ]
  },
  {
   "cell_type": "code",
   "execution_count": null,
   "metadata": {},
   "outputs": [],
   "source": [
    "# Filter reference spectra and results on good spotted from above!\n",
    "x = list(spotted_cmpds_df.id)\n",
    "ref_spectra_df = ref_spectra_df[ref_spectra_df.id.isin(x)]"
   ]
  },
  {
   "cell_type": "code",
   "execution_count": null,
   "metadata": {},
   "outputs": [],
   "source": [
    "# Have to run some kind of loop for each dataset!\n",
    "mirror_main(original_ds_id_on_prod,\n",
    "                db_id_on_beta,\n",
    "                ds_id_on_beta,\n",
    "                path_to_reports,\n",
    "                polarity,\n",
    "                psuedo_y_axis,\n",
    "                ref_spectra_df)"
   ]
  },
  {
   "cell_type": "code",
   "execution_count": null,
   "metadata": {},
   "outputs": [],
   "source": [
    "## 6. Score predicted, experimental, and psuedo-MS/MS spectra together for well-behaved subset.\n",
    "\n",
    "# What scoring method?"
   ]
  },
  {
   "cell_type": "code",
   "execution_count": null,
   "metadata": {
    "scrolled": true
   },
   "outputs": [],
   "source": [
    "## 7. Plot examples.\n",
    "# Make a list of good examples to plot for paper...\n",
    "def load_arr_pickle(path):\n",
    "    # Loads pickled np.array\n",
    "    with open(path, 'rb') as f:\n",
    "        return pickle.load(f)\n",
    "\n",
    "plt.imshow(load_arr_pickle('*.pickle'))"
   ]
  },
  {
   "cell_type": "markdown",
   "metadata": {},
   "source": [
    "To do:\n",
    "1. Run through it and check to make sure steps work."
   ]
  }
 ],
 "metadata": {
  "kernelspec": {
   "display_name": "Python 3",
   "language": "python",
   "name": "python3"
  },
  "language_info": {
   "codemirror_mode": {
    "name": "ipython",
    "version": 3
   },
   "file_extension": ".py",
   "mimetype": "text/x-python",
   "name": "python",
   "nbconvert_exporter": "python",
   "pygments_lexer": "ipython3",
   "version": "3.6.8"
  }
 },
 "nbformat": 4,
 "nbformat_minor": 2
}
