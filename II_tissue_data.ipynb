{
 "cells": [
  {
   "cell_type": "code",
   "execution_count": 1,
   "metadata": {},
   "outputs": [],
   "source": [
    "%load_ext autoreload\n",
    "%autoreload 2"
   ]
  },
  {
   "cell_type": "code",
   "execution_count": 2,
   "metadata": {},
   "outputs": [],
   "source": [
    "import pandas as pd\n",
    "import numpy as np\n",
    "import requests\n",
    "import zipfile\n",
    "import glob\n",
    "import pickle\n",
    "import matplotlib.pyplot as plt\n",
    "\n",
    "from parse_reference_spectra import parse_gnps_json, output_loop\n",
    "from spectra_to_sirius import master_loop\n",
    "from clone_ds_to_beta import copy_beta\n",
    "from results_from_metaspace_msms_process import logon_metaspace\n",
    "from metaspace.sm_annotation_utils import SMInstance\n",
    "from results_from_metaspace_msms_process import split_data_frame_list\n",
    "from sirius_to_metaspace_db import primary_loop\n",
    "from cosine_spectra import score_alignment, read_ms_file\n",
    "from metaspace_msms_mirror_spectra import mirror_main"
   ]
  },
  {
   "cell_type": "markdown",
   "metadata": {},
   "source": [
    "Workflow steps on tissue data for METASAPCE MS/MS publication.\n",
    "\n",
    "https://github.com/DinosaurInSpace/metaspace_msms_paper/blob/master/README.md\n",
    "II. Steps 1-7"
   ]
  },
  {
   "cell_type": "code",
   "execution_count": 3,
   "metadata": {},
   "outputs": [],
   "source": [
    "## 0. Load well behaved molecules from I.\n",
    "# well_behaved_hits = read_pickle('intermediate/val_spotted.pickle')\n",
    "\n",
    "# for testing, reality will be a subset of these:\n",
    "well_behaved_hits = pd.read_csv('input/spotted_cmpds.csv', sep=\"\\t\")"
   ]
  },
  {
   "cell_type": "code",
   "execution_count": 4,
   "metadata": {},
   "outputs": [],
   "source": [
    "## 1. List of ds_ids and metadata for selected experiments.\n",
    "cmv3_wb_ds_name_dict = {'2016-09-21_16h07m45s': 'Technologie_ServierTES-WBrat-vehicle',\n",
    "                        '2017-05-17_19h49m04s': 'whole body xenograft (1) [RMS norm]',\n",
    "                        '2017-05-17_19h50m07s': 'wb xenograft trp pathway dosed- rms_corrected',\n",
    "                        '2017-05-29_07h28m52s': 'servier_TT_mouse_wb_fmpts_derivatization_CHCA',\n",
    "                        '2017-07-24_19h42m31s': 'Servier_Ctrl_mouse_wb_lateral_plane_9aa',\n",
    "                        '2017-07-26_18h25m14s': 'Servier_Ctrl_mouse_wb_median_plane_9aa',\n",
    "                        '2017-08-03_15h09m06s': 'Servier_Ctrl_mouse_wb_median_plane_chca',\n",
    "                        '2017-08-03_15h09m51s': 'Servier_Ctrl_mouse_wb_lateral_plane_chca',\n",
    "                        '2017-08-11_07h59m58s': 'Servier_Ctrl_mouse_wb_lateral_plane_DHB',\n",
    "                        '2017-08-11_08h01m02s': 'Servier_Ctrl_mouse_wb_median_plane_DHB'\n",
    "                        }"
   ]
  },
  {
   "cell_type": "code",
   "execution_count": 5,
   "metadata": {
    "scrolled": true
   },
   "outputs": [
    {
     "data": {
      "text/html": [
       "<div>\n",
       "<style scoped>\n",
       "    .dataframe tbody tr th:only-of-type {\n",
       "        vertical-align: middle;\n",
       "    }\n",
       "\n",
       "    .dataframe tbody tr th {\n",
       "        vertical-align: top;\n",
       "    }\n",
       "\n",
       "    .dataframe thead th {\n",
       "        text-align: right;\n",
       "    }\n",
       "</style>\n",
       "<table border=\"1\" class=\"dataframe\">\n",
       "  <thead>\n",
       "    <tr style=\"text-align: right;\">\n",
       "      <th></th>\n",
       "      <th>ds_id</th>\n",
       "      <th>polarity</th>\n",
       "      <th>group</th>\n",
       "      <th>analyzer</th>\n",
       "      <th>expt_type</th>\n",
       "      <th>ds_id_in</th>\n",
       "      <th>ds_id_out</th>\n",
       "      <th>search</th>\n",
       "      <th>name</th>\n",
       "    </tr>\n",
       "  </thead>\n",
       "  <tbody>\n",
       "    <tr>\n",
       "      <td>0</td>\n",
       "      <td>2016-09-21_16h07m45s</td>\n",
       "      <td>positive</td>\n",
       "      <td>Servier</td>\n",
       "      <td>FTICR</td>\n",
       "      <td>wholebody</td>\n",
       "      <td>2016-09-21_16h07m45s</td>\n",
       "      <td>None</td>\n",
       "      <td>METASPACE_MSMS</td>\n",
       "      <td>Technologie_ServierTES-WBrat-vehicle</td>\n",
       "    </tr>\n",
       "    <tr>\n",
       "      <td>1</td>\n",
       "      <td>2017-05-17_19h49m04s</td>\n",
       "      <td>positive</td>\n",
       "      <td>Genentech</td>\n",
       "      <td>FTICR</td>\n",
       "      <td>wholebody</td>\n",
       "      <td>2017-05-17_19h49m04s</td>\n",
       "      <td>None</td>\n",
       "      <td>METASPACE_MSMS</td>\n",
       "      <td>whole body xenograft (1) [RMS norm]</td>\n",
       "    </tr>\n",
       "    <tr>\n",
       "      <td>2</td>\n",
       "      <td>2017-05-17_19h50m07s</td>\n",
       "      <td>positive</td>\n",
       "      <td>Genentech</td>\n",
       "      <td>FTICR</td>\n",
       "      <td>wholebody</td>\n",
       "      <td>2017-05-17_19h50m07s</td>\n",
       "      <td>None</td>\n",
       "      <td>METASPACE_MSMS</td>\n",
       "      <td>wb xenograft trp pathway dosed- rms_corrected</td>\n",
       "    </tr>\n",
       "    <tr>\n",
       "      <td>3</td>\n",
       "      <td>2017-05-29_07h28m52s</td>\n",
       "      <td>positive</td>\n",
       "      <td>Servier</td>\n",
       "      <td>FTICR</td>\n",
       "      <td>wholebody</td>\n",
       "      <td>2017-05-29_07h28m52s</td>\n",
       "      <td>None</td>\n",
       "      <td>METASPACE_MSMS</td>\n",
       "      <td>servier_TT_mouse_wb_fmpts_derivatization_CHCA</td>\n",
       "    </tr>\n",
       "    <tr>\n",
       "      <td>4</td>\n",
       "      <td>2017-07-24_19h42m31s</td>\n",
       "      <td>negative</td>\n",
       "      <td>Servier</td>\n",
       "      <td>FTICR</td>\n",
       "      <td>wholebody</td>\n",
       "      <td>2017-07-24_19h42m31s</td>\n",
       "      <td>None</td>\n",
       "      <td>METASPACE_MSMS</td>\n",
       "      <td>Servier_Ctrl_mouse_wb_lateral_plane_9aa</td>\n",
       "    </tr>\n",
       "    <tr>\n",
       "      <td>5</td>\n",
       "      <td>2017-07-26_18h25m14s</td>\n",
       "      <td>negative</td>\n",
       "      <td>Servier</td>\n",
       "      <td>FTICR</td>\n",
       "      <td>wholebody</td>\n",
       "      <td>2017-07-26_18h25m14s</td>\n",
       "      <td>None</td>\n",
       "      <td>METASPACE_MSMS</td>\n",
       "      <td>Servier_Ctrl_mouse_wb_median_plane_9aa</td>\n",
       "    </tr>\n",
       "    <tr>\n",
       "      <td>6</td>\n",
       "      <td>2017-08-03_15h09m06s</td>\n",
       "      <td>positive</td>\n",
       "      <td>Servier</td>\n",
       "      <td>FTICR</td>\n",
       "      <td>wholebody</td>\n",
       "      <td>2017-08-03_15h09m06s</td>\n",
       "      <td>None</td>\n",
       "      <td>METASPACE_MSMS</td>\n",
       "      <td>Servier_Ctrl_mouse_wb_median_plane_chca</td>\n",
       "    </tr>\n",
       "    <tr>\n",
       "      <td>7</td>\n",
       "      <td>2017-08-03_15h09m51s</td>\n",
       "      <td>positive</td>\n",
       "      <td>Servier</td>\n",
       "      <td>FTICR</td>\n",
       "      <td>wholebody</td>\n",
       "      <td>2017-08-03_15h09m51s</td>\n",
       "      <td>None</td>\n",
       "      <td>METASPACE_MSMS</td>\n",
       "      <td>Servier_Ctrl_mouse_wb_lateral_plane_chca</td>\n",
       "    </tr>\n",
       "    <tr>\n",
       "      <td>8</td>\n",
       "      <td>2017-08-11_07h59m58s</td>\n",
       "      <td>positive</td>\n",
       "      <td>Servier</td>\n",
       "      <td>FTICR</td>\n",
       "      <td>wholebody</td>\n",
       "      <td>2017-08-11_07h59m58s</td>\n",
       "      <td>None</td>\n",
       "      <td>METASPACE_MSMS</td>\n",
       "      <td>Servier_Ctrl_mouse_wb_lateral_plane_DHB</td>\n",
       "    </tr>\n",
       "    <tr>\n",
       "      <td>9</td>\n",
       "      <td>2017-08-11_08h01m02s</td>\n",
       "      <td>positive</td>\n",
       "      <td>Servier</td>\n",
       "      <td>FTICR</td>\n",
       "      <td>wholebody</td>\n",
       "      <td>2017-08-11_08h01m02s</td>\n",
       "      <td>None</td>\n",
       "      <td>METASPACE_MSMS</td>\n",
       "      <td>Servier_Ctrl_mouse_wb_median_plane_DHB</td>\n",
       "    </tr>\n",
       "  </tbody>\n",
       "</table>\n",
       "</div>"
      ],
      "text/plain": [
       "                  ds_id  polarity      group analyzer  expt_type  \\\n",
       "0  2016-09-21_16h07m45s  positive    Servier    FTICR  wholebody   \n",
       "1  2017-05-17_19h49m04s  positive  Genentech    FTICR  wholebody   \n",
       "2  2017-05-17_19h50m07s  positive  Genentech    FTICR  wholebody   \n",
       "3  2017-05-29_07h28m52s  positive    Servier    FTICR  wholebody   \n",
       "4  2017-07-24_19h42m31s  negative    Servier    FTICR  wholebody   \n",
       "5  2017-07-26_18h25m14s  negative    Servier    FTICR  wholebody   \n",
       "6  2017-08-03_15h09m06s  positive    Servier    FTICR  wholebody   \n",
       "7  2017-08-03_15h09m51s  positive    Servier    FTICR  wholebody   \n",
       "8  2017-08-11_07h59m58s  positive    Servier    FTICR  wholebody   \n",
       "9  2017-08-11_08h01m02s  positive    Servier    FTICR  wholebody   \n",
       "\n",
       "               ds_id_in ds_id_out          search  \\\n",
       "0  2016-09-21_16h07m45s      None  METASPACE_MSMS   \n",
       "1  2017-05-17_19h49m04s      None  METASPACE_MSMS   \n",
       "2  2017-05-17_19h50m07s      None  METASPACE_MSMS   \n",
       "3  2017-05-29_07h28m52s      None  METASPACE_MSMS   \n",
       "4  2017-07-24_19h42m31s      None  METASPACE_MSMS   \n",
       "5  2017-07-26_18h25m14s      None  METASPACE_MSMS   \n",
       "6  2017-08-03_15h09m06s      None  METASPACE_MSMS   \n",
       "7  2017-08-03_15h09m51s      None  METASPACE_MSMS   \n",
       "8  2017-08-11_07h59m58s      None  METASPACE_MSMS   \n",
       "9  2017-08-11_08h01m02s      None  METASPACE_MSMS   \n",
       "\n",
       "                                            name  \n",
       "0           Technologie_ServierTES-WBrat-vehicle  \n",
       "1            whole body xenograft (1) [RMS norm]  \n",
       "2  wb xenograft trp pathway dosed- rms_corrected  \n",
       "3  servier_TT_mouse_wb_fmpts_derivatization_CHCA  \n",
       "4        Servier_Ctrl_mouse_wb_lateral_plane_9aa  \n",
       "5         Servier_Ctrl_mouse_wb_median_plane_9aa  \n",
       "6        Servier_Ctrl_mouse_wb_median_plane_chca  \n",
       "7       Servier_Ctrl_mouse_wb_lateral_plane_chca  \n",
       "8        Servier_Ctrl_mouse_wb_lateral_plane_DHB  \n",
       "9         Servier_Ctrl_mouse_wb_median_plane_DHB  "
      ]
     },
     "execution_count": 5,
     "metadata": {},
     "output_type": "execute_result"
    }
   ],
   "source": [
    "wholebody_ds_df = pd.DataFrame()\n",
    "wholebody_ds_df['ds_id'] = cmv3_wb_ds_name_dict.keys()\n",
    "wholebody_ds_df['polarity'] = ['positive', 'positive', 'positive', \n",
    "                               'positive', 'negative', 'negative', \n",
    "                               'positive', 'positive', 'positive', \n",
    "                               'positive']\n",
    "wholebody_ds_df['group'] = ['Servier', 'Genentech', 'Genentech',\n",
    "                           'Servier', 'Servier', 'Servier',\n",
    "                           'Servier', 'Servier', 'Servier',\n",
    "                           'Servier']\n",
    "wholebody_ds_df['analyzer'] = 'FTICR'\n",
    "wholebody_ds_df['expt_type'] = 'wholebody'\n",
    "wholebody_ds_df['ds_id_in'] = wholebody_ds_df['ds_id']\n",
    "wholebody_ds_df['ds_id_out'] = None\n",
    "wholebody_ds_df['search'] = 'METASPACE_MSMS'\n",
    "wholebody_ds_df['name'] = cmv3_wb_ds_name_dict.values()\n",
    "\n",
    "wholebody_ds_df"
   ]
  },
  {
   "cell_type": "code",
   "execution_count": 7,
   "metadata": {},
   "outputs": [
    {
     "name": "stdout",
     "output_type": "stream",
     "text": [
      "{'ds_id_in': '2016-09-21_16h07m45s', 'ds_id_out': '2020-06-26_22h10m03s'}\n",
      "{'ds_id_in': '2017-05-17_19h49m04s', 'ds_id_out': '2020-06-26_22h10m06s'}\n",
      "{'ds_id_in': '2017-05-17_19h50m07s', 'ds_id_out': '2020-06-26_22h10m09s'}\n",
      "{'ds_id_in': '2017-05-29_07h28m52s', 'ds_id_out': '2020-06-26_22h10m12s'}\n",
      "{'ds_id_in': '2017-07-24_19h42m31s', 'ds_id_out': '2020-06-26_22h10m16s'}\n",
      "{'ds_id_in': '2017-07-26_18h25m14s', 'ds_id_out': '2020-06-26_22h10m19s'}\n",
      "{'ds_id_in': '2017-08-03_15h09m06s', 'ds_id_out': '2020-06-26_22h10m22s'}\n",
      "{'ds_id_in': '2017-08-03_15h09m51s', 'ds_id_out': '2020-06-26_22h10m25s'}\n",
      "{'ds_id_in': '2017-08-11_07h59m58s', 'ds_id_out': '2020-06-26_22h10m28s'}\n",
      "{'ds_id_in': '2017-08-11_08h01m02s', 'ds_id_out': '2020-06-26_22h10m31s'}\n"
     ]
    }
   ],
   "source": [
    "## 2. Download METASPACE results.\n",
    "# Clones to beta and searches with cm3\n",
    "out_dict_list = []\n",
    "for ds in list(wholebody_ds_df.ds_id):\n",
    "    x = copy_beta(ds, 'HNaKM', 'core_metabolome_v3')\n",
    "    out_dict_list.append(x)\n",
    "    \n",
    "out_df = pd.DataFrame(out_dict_list)\n",
    "out_df.to_pickle('intermediate/wholebody_cm3_df.pickle')"
   ]
  },
  {
   "cell_type": "code",
   "execution_count": null,
   "metadata": {},
   "outputs": [],
   "source": [
    "# Waiting on jobs to complete!"
   ]
  },
  {
   "cell_type": "code",
   "execution_count": 8,
   "metadata": {},
   "outputs": [],
   "source": [
    "# Downloads results\n",
    "df_list = []\n",
    "for ms_ds_id in out_df.ds_id_out:\n",
    "    ds_id_in = list(out_df[out_df.ds_id_out == ms_ds_id].ds_id_in)[0]\n",
    "    sm = SMInstance(host='https://beta.metaspace2020.eu')\n",
    "    sm = logon_metaspace(sm)\n",
    "    ds = sm.dataset(id=ms_ds_id)\n",
    "    results_df = ds.results(database='core_metabolome_v3').reset_index()\n",
    "    results_df['ds_id_in'] = ds_id_in\n",
    "    df_list.append(results_df)"
   ]
  },
  {
   "cell_type": "code",
   "execution_count": 9,
   "metadata": {},
   "outputs": [],
   "source": [
    "# Filters MS1 results for FDR <=0.2\n",
    "ms1_df = pd.concat(df_list)\n",
    "ms1_df = ms1_df[ms1_df.fdr <=0.2]\n",
    "ms1_df = ms1_df[['ds_id_in', 'moleculeIds']]\n",
    "ms1_df = split_data_frame_list(ms1_df, 'moleculeIds')"
   ]
  },
  {
   "cell_type": "code",
   "execution_count": 11,
   "metadata": {},
   "outputs": [
    {
     "name": "stdout",
     "output_type": "stream",
     "text": [
      "2 sirius_output_df (9941, 3)                                                                                                exists  \\\n",
      "0_HMDB0003361_Pyrimidine                            trees/positive_0_HMDB0003361_Pyrimidine/0_HMDB...   \n",
      "5_HMDB0029713_Thiazole                              trees/positive_5_HMDB0029713_Thiazole/5_HMDB00...   \n",
      "17_HMDB0001414_Putrescine                           trees/positive_17_HMDB0001414_Putrescine/17_HM...   \n",
      "18_HMDB0000056_betaAlanine                          trees/positive_18_HMDB0000056_betaAlanine/18_H...   \n",
      "19_HMDB0000161_LAlanine                             trees/positive_19_HMDB0000161_LAlanine/19_HMDB...   \n",
      "...                                                                                               ...   \n",
      "11431_HMDB0058988_CL2045Z8Z11Z14Z1802045Z8Z11Z1...  trees/positive_11431_HMDB0058988_CL2045Z8Z11Z1...   \n",
      "11432_HMDB0057261_CL1802045Z8Z11Z14Z2045Z8Z11Z1...  trees/positive_11432_HMDB0057261_CL1802045Z8Z1...   \n",
      "11433_HMDB0059079_CL2045Z8Z11Z14Z2045Z8Z11Z14Z2...  trees/positive_11433_HMDB0059079_CL2045Z8Z11Z1...   \n",
      "11434_HMDB0013072_Somatostatin                      trees/positive_11434_HMDB0013072_Somatostatin/...   \n",
      "11435_HMDB0004932_Ganglioside_GD2_d181240           trees/positive_11435_HMDB0004932_Ganglioside_G...   \n",
      "\n",
      "                                                          source  polarity  \n",
      "0_HMDB0003361_Pyrimidine                            experimental  positive  \n",
      "5_HMDB0029713_Thiazole                              experimental  positive  \n",
      "17_HMDB0001414_Putrescine                           experimental  positive  \n",
      "18_HMDB0000056_betaAlanine                          experimental  positive  \n",
      "19_HMDB0000161_LAlanine                             experimental  positive  \n",
      "...                                                          ...       ...  \n",
      "11431_HMDB0058988_CL2045Z8Z11Z14Z1802045Z8Z11Z1...   theoretical  positive  \n",
      "11432_HMDB0057261_CL1802045Z8Z11Z14Z2045Z8Z11Z1...   theoretical  positive  \n",
      "11433_HMDB0059079_CL2045Z8Z11Z14Z2045Z8Z11Z14Z2...   theoretical  positive  \n",
      "11434_HMDB0013072_Somatostatin                       theoretical  positive  \n",
      "11435_HMDB0004932_Ganglioside_GD2_d181240            theoretical  positive  \n",
      "\n",
      "[9941 rows x 3 columns]\n",
      "10 (10828, 10)\n"
     ]
    },
    {
     "ename": "ValueError",
     "evalue": "Invalid file path or buffer object type: <class 'pandas.core.series.Series'>",
     "output_type": "error",
     "traceback": [
      "\u001b[0;31m---------------------------------------------------------------------------\u001b[0m",
      "\u001b[0;31mValueError\u001b[0m                                Traceback (most recent call last)",
      "\u001b[0;32m<ipython-input-11-135ac1108996>\u001b[0m in \u001b[0;36m<module>\u001b[0;34m\u001b[0m\n\u001b[1;32m     12\u001b[0m                  \u001b[0;34m'intermediate/theo_negative.pickle'\u001b[0m\u001b[0;34m,\u001b[0m\u001b[0;34m\u001b[0m\u001b[0;34m\u001b[0m\u001b[0m\n\u001b[1;32m     13\u001b[0m                  \u001b[0;34m'intermediate/ref_expt_df.pickle'\u001b[0m\u001b[0;34m,\u001b[0m\u001b[0;34m\u001b[0m\u001b[0;34m\u001b[0m\u001b[0m\n\u001b[0;32m---> 14\u001b[0;31m                  \u001b[0;34m'intermediate/ref_theo_df.pickle'\u001b[0m\u001b[0;34m\u001b[0m\u001b[0;34m\u001b[0m\u001b[0m\n\u001b[0m\u001b[1;32m     15\u001b[0m                  )\n\u001b[1;32m     16\u001b[0m \u001b[0;34m\u001b[0m\u001b[0m\n",
      "\u001b[0;32m~/PycharmProjects/metaspace_msms_paper/sirius_to_metaspace_db.py\u001b[0m in \u001b[0;36mprimary_loop\u001b[0;34m(limit_list, out_name, out_path, polarity, expt_pos, theo_pos, expt_neg, theo_neg, ref_expt, ref_theo)\u001b[0m\n\u001b[1;32m    280\u001b[0m                         pd.read_pickle(ref_theo)], sort=True\n\u001b[1;32m    281\u001b[0m                        )\n\u001b[0;32m--> 282\u001b[0;31m     \u001b[0mjoined_out\u001b[0m \u001b[0;34m=\u001b[0m \u001b[0mresults_clean_up\u001b[0m\u001b[0;34m(\u001b[0m\u001b[0mref_db\u001b[0m\u001b[0;34m,\u001b[0m \u001b[0mout_df\u001b[0m\u001b[0;34m,\u001b[0m \u001b[0mpolarity\u001b[0m\u001b[0;34m)\u001b[0m\u001b[0;34m\u001b[0m\u001b[0;34m\u001b[0m\u001b[0m\n\u001b[0m\u001b[1;32m    283\u001b[0m \u001b[0;34m\u001b[0m\u001b[0m\n\u001b[1;32m    284\u001b[0m     \u001b[0;31m# Clean-up database for METASPACE\u001b[0m\u001b[0;34m\u001b[0m\u001b[0;34m\u001b[0m\u001b[0;34m\u001b[0m\u001b[0m\n",
      "\u001b[0;32m~/PycharmProjects/metaspace_msms_paper/sirius_to_metaspace_db.py\u001b[0m in \u001b[0;36mresults_clean_up\u001b[0;34m(has_ms2_df, sirius_output_df, polarity)\u001b[0m\n\u001b[1;32m    168\u001b[0m     \u001b[0;31m# Joins MS2 spectra to metadata\u001b[0m\u001b[0;34m\u001b[0m\u001b[0;34m\u001b[0m\u001b[0;34m\u001b[0m\u001b[0m\n\u001b[1;32m    169\u001b[0m     \u001b[0mprint\u001b[0m\u001b[0;34m(\u001b[0m\u001b[0;34m'10'\u001b[0m\u001b[0;34m,\u001b[0m \u001b[0mms2_meta_df\u001b[0m\u001b[0;34m.\u001b[0m\u001b[0mshape\u001b[0m\u001b[0;34m)\u001b[0m\u001b[0;34m\u001b[0m\u001b[0;34m\u001b[0m\u001b[0m\n\u001b[0;32m--> 170\u001b[0;31m     \u001b[0mdf\u001b[0m \u001b[0;34m=\u001b[0m \u001b[0mdf_merge\u001b[0m\u001b[0;34m(\u001b[0m\u001b[0mms2_meta_df\u001b[0m\u001b[0;34m)\u001b[0m\u001b[0;34m\u001b[0m\u001b[0;34m\u001b[0m\u001b[0m\n\u001b[0m\u001b[1;32m    171\u001b[0m     \u001b[0mdf\u001b[0m \u001b[0;34m=\u001b[0m \u001b[0mdf\u001b[0m\u001b[0;34m.\u001b[0m\u001b[0mdropna\u001b[0m\u001b[0;34m(\u001b[0m\u001b[0;34m)\u001b[0m\u001b[0;34m\u001b[0m\u001b[0;34m\u001b[0m\u001b[0m\n\u001b[1;32m    172\u001b[0m     \u001b[0mdf\u001b[0m\u001b[0;34m[\u001b[0m\u001b[0;34m'expl_ex'\u001b[0m\u001b[0;34m]\u001b[0m \u001b[0;34m=\u001b[0m \u001b[0mdf\u001b[0m\u001b[0;34m.\u001b[0m\u001b[0mexplanation\u001b[0m\u001b[0;34m.\u001b[0m\u001b[0mapply\u001b[0m\u001b[0;34m(\u001b[0m\u001b[0;32mlambda\u001b[0m \u001b[0mx\u001b[0m\u001b[0;34m:\u001b[0m \u001b[0mex\u001b[0m\u001b[0;34m(\u001b[0m\u001b[0mx\u001b[0m\u001b[0;34m)\u001b[0m\u001b[0;34m)\u001b[0m\u001b[0;34m\u001b[0m\u001b[0;34m\u001b[0m\u001b[0m\n",
      "\u001b[0;32m~/PycharmProjects/metaspace_msms_paper/sirius_to_metaspace_db.py\u001b[0m in \u001b[0;36mdf_merge\u001b[0;34m(input_df)\u001b[0m\n\u001b[1;32m     46\u001b[0m             \u001b[0;32mpass\u001b[0m\u001b[0;34m\u001b[0m\u001b[0;34m\u001b[0m\u001b[0m\n\u001b[1;32m     47\u001b[0m         \u001b[0mser\u001b[0m \u001b[0;34m=\u001b[0m \u001b[0minput_df\u001b[0m\u001b[0;34m.\u001b[0m\u001b[0mloc\u001b[0m\u001b[0;34m[\u001b[0m\u001b[0midx\u001b[0m\u001b[0;34m]\u001b[0m\u001b[0;34m\u001b[0m\u001b[0;34m\u001b[0m\u001b[0m\n\u001b[0;32m---> 48\u001b[0;31m         \u001b[0mdf\u001b[0m \u001b[0;34m=\u001b[0m \u001b[0mms_pd_reader\u001b[0m\u001b[0;34m(\u001b[0m\u001b[0mser\u001b[0m\u001b[0;34m.\u001b[0m\u001b[0mexists\u001b[0m\u001b[0;34m,\u001b[0m \u001b[0mser\u001b[0m\u001b[0;34m.\u001b[0m\u001b[0mdb_index\u001b[0m\u001b[0;34m)\u001b[0m\u001b[0;34m\u001b[0m\u001b[0;34m\u001b[0m\u001b[0m\n\u001b[0m\u001b[1;32m     49\u001b[0m         \u001b[0mout_df\u001b[0m \u001b[0;34m=\u001b[0m \u001b[0mpd\u001b[0m\u001b[0;34m.\u001b[0m\u001b[0mconcat\u001b[0m\u001b[0;34m(\u001b[0m\u001b[0;34m[\u001b[0m\u001b[0mout_df\u001b[0m\u001b[0;34m,\u001b[0m \u001b[0mdf\u001b[0m\u001b[0;34m]\u001b[0m\u001b[0;34m)\u001b[0m\u001b[0;34m\u001b[0m\u001b[0;34m\u001b[0m\u001b[0m\n\u001b[1;32m     50\u001b[0m     \u001b[0mout_df\u001b[0m \u001b[0;34m=\u001b[0m \u001b[0mpd\u001b[0m\u001b[0;34m.\u001b[0m\u001b[0mmerge\u001b[0m\u001b[0;34m(\u001b[0m\u001b[0mout_df\u001b[0m\u001b[0;34m,\u001b[0m \u001b[0minput_df\u001b[0m\u001b[0;34m,\u001b[0m \u001b[0mhow\u001b[0m\u001b[0;34m=\u001b[0m\u001b[0;34m'left'\u001b[0m\u001b[0;34m,\u001b[0m \u001b[0mon\u001b[0m\u001b[0;34m=\u001b[0m\u001b[0;34m'db_index'\u001b[0m\u001b[0;34m)\u001b[0m\u001b[0;34m\u001b[0m\u001b[0;34m\u001b[0m\u001b[0m\n",
      "\u001b[0;32m~/PycharmProjects/metaspace_msms_paper/sirius_to_metaspace_db.py\u001b[0m in \u001b[0;36mms_pd_reader\u001b[0;34m(ms_path, db_index)\u001b[0m\n\u001b[1;32m     25\u001b[0m \u001b[0;32mdef\u001b[0m \u001b[0mms_pd_reader\u001b[0m\u001b[0;34m(\u001b[0m\u001b[0mms_path\u001b[0m\u001b[0;34m,\u001b[0m \u001b[0mdb_index\u001b[0m\u001b[0;34m)\u001b[0m\u001b[0;34m:\u001b[0m\u001b[0;34m\u001b[0m\u001b[0;34m\u001b[0m\u001b[0m\n\u001b[1;32m     26\u001b[0m     \u001b[0;31m# Reads Sirius output obtaining m/z and formula\u001b[0m\u001b[0;34m\u001b[0m\u001b[0;34m\u001b[0m\u001b[0;34m\u001b[0m\u001b[0m\n\u001b[0;32m---> 27\u001b[0;31m     \u001b[0mdf\u001b[0m \u001b[0;34m=\u001b[0m \u001b[0mpd\u001b[0m\u001b[0;34m.\u001b[0m\u001b[0mread_csv\u001b[0m\u001b[0;34m(\u001b[0m\u001b[0mms_path\u001b[0m\u001b[0;34m,\u001b[0m \u001b[0msep\u001b[0m\u001b[0;34m=\u001b[0m\u001b[0;34m'\\t'\u001b[0m\u001b[0;34m,\u001b[0m \u001b[0mheader\u001b[0m\u001b[0;34m=\u001b[0m\u001b[0;36m0\u001b[0m\u001b[0;34m)\u001b[0m\u001b[0;34m\u001b[0m\u001b[0;34m\u001b[0m\u001b[0m\n\u001b[0m\u001b[1;32m     28\u001b[0m     \u001b[0mdf\u001b[0m \u001b[0;34m=\u001b[0m \u001b[0mdf\u001b[0m\u001b[0;34m[\u001b[0m\u001b[0;34m[\u001b[0m\u001b[0;34m'exactmass'\u001b[0m\u001b[0;34m,\u001b[0m \u001b[0;34m'explanation'\u001b[0m\u001b[0;34m]\u001b[0m\u001b[0;34m]\u001b[0m\u001b[0;34m\u001b[0m\u001b[0;34m\u001b[0m\u001b[0m\n\u001b[1;32m     29\u001b[0m     \u001b[0mdf\u001b[0m\u001b[0;34m[\u001b[0m\u001b[0;34m'db_index'\u001b[0m\u001b[0;34m]\u001b[0m \u001b[0;34m=\u001b[0m \u001b[0mdb_index\u001b[0m\u001b[0;34m\u001b[0m\u001b[0;34m\u001b[0m\u001b[0m\n",
      "\u001b[0;32m~/anaconda3/envs/lcenv/lib/python3.6/site-packages/pandas/io/parsers.py\u001b[0m in \u001b[0;36mparser_f\u001b[0;34m(filepath_or_buffer, sep, delimiter, header, names, index_col, usecols, squeeze, prefix, mangle_dupe_cols, dtype, engine, converters, true_values, false_values, skipinitialspace, skiprows, skipfooter, nrows, na_values, keep_default_na, na_filter, verbose, skip_blank_lines, parse_dates, infer_datetime_format, keep_date_col, date_parser, dayfirst, cache_dates, iterator, chunksize, compression, thousands, decimal, lineterminator, quotechar, quoting, doublequote, escapechar, comment, encoding, dialect, error_bad_lines, warn_bad_lines, delim_whitespace, low_memory, memory_map, float_precision)\u001b[0m\n\u001b[1;32m    683\u001b[0m         )\n\u001b[1;32m    684\u001b[0m \u001b[0;34m\u001b[0m\u001b[0m\n\u001b[0;32m--> 685\u001b[0;31m         \u001b[0;32mreturn\u001b[0m \u001b[0m_read\u001b[0m\u001b[0;34m(\u001b[0m\u001b[0mfilepath_or_buffer\u001b[0m\u001b[0;34m,\u001b[0m \u001b[0mkwds\u001b[0m\u001b[0;34m)\u001b[0m\u001b[0;34m\u001b[0m\u001b[0;34m\u001b[0m\u001b[0m\n\u001b[0m\u001b[1;32m    686\u001b[0m \u001b[0;34m\u001b[0m\u001b[0m\n\u001b[1;32m    687\u001b[0m     \u001b[0mparser_f\u001b[0m\u001b[0;34m.\u001b[0m\u001b[0m__name__\u001b[0m \u001b[0;34m=\u001b[0m \u001b[0mname\u001b[0m\u001b[0;34m\u001b[0m\u001b[0;34m\u001b[0m\u001b[0m\n",
      "\u001b[0;32m~/anaconda3/envs/lcenv/lib/python3.6/site-packages/pandas/io/parsers.py\u001b[0m in \u001b[0;36m_read\u001b[0;34m(filepath_or_buffer, kwds)\u001b[0m\n\u001b[1;32m    438\u001b[0m     \u001b[0;31m# See https://github.com/python/mypy/issues/1297\u001b[0m\u001b[0;34m\u001b[0m\u001b[0;34m\u001b[0m\u001b[0;34m\u001b[0m\u001b[0m\n\u001b[1;32m    439\u001b[0m     fp_or_buf, _, compression, should_close = get_filepath_or_buffer(\n\u001b[0;32m--> 440\u001b[0;31m         \u001b[0mfilepath_or_buffer\u001b[0m\u001b[0;34m,\u001b[0m \u001b[0mencoding\u001b[0m\u001b[0;34m,\u001b[0m \u001b[0mcompression\u001b[0m\u001b[0;34m\u001b[0m\u001b[0;34m\u001b[0m\u001b[0m\n\u001b[0m\u001b[1;32m    441\u001b[0m     )\n\u001b[1;32m    442\u001b[0m     \u001b[0mkwds\u001b[0m\u001b[0;34m[\u001b[0m\u001b[0;34m\"compression\"\u001b[0m\u001b[0;34m]\u001b[0m \u001b[0;34m=\u001b[0m \u001b[0mcompression\u001b[0m\u001b[0;34m\u001b[0m\u001b[0;34m\u001b[0m\u001b[0m\n",
      "\u001b[0;32m~/anaconda3/envs/lcenv/lib/python3.6/site-packages/pandas/io/common.py\u001b[0m in \u001b[0;36mget_filepath_or_buffer\u001b[0;34m(filepath_or_buffer, encoding, compression, mode)\u001b[0m\n\u001b[1;32m    222\u001b[0m     \u001b[0;32mif\u001b[0m \u001b[0;32mnot\u001b[0m \u001b[0mis_file_like\u001b[0m\u001b[0;34m(\u001b[0m\u001b[0mfilepath_or_buffer\u001b[0m\u001b[0;34m)\u001b[0m\u001b[0;34m:\u001b[0m\u001b[0;34m\u001b[0m\u001b[0;34m\u001b[0m\u001b[0m\n\u001b[1;32m    223\u001b[0m         \u001b[0mmsg\u001b[0m \u001b[0;34m=\u001b[0m \u001b[0;34m\"Invalid file path or buffer object type: {_type}\"\u001b[0m\u001b[0;34m\u001b[0m\u001b[0;34m\u001b[0m\u001b[0m\n\u001b[0;32m--> 224\u001b[0;31m         \u001b[0;32mraise\u001b[0m \u001b[0mValueError\u001b[0m\u001b[0;34m(\u001b[0m\u001b[0mmsg\u001b[0m\u001b[0;34m.\u001b[0m\u001b[0mformat\u001b[0m\u001b[0;34m(\u001b[0m\u001b[0m_type\u001b[0m\u001b[0;34m=\u001b[0m\u001b[0mtype\u001b[0m\u001b[0;34m(\u001b[0m\u001b[0mfilepath_or_buffer\u001b[0m\u001b[0;34m)\u001b[0m\u001b[0;34m)\u001b[0m\u001b[0;34m)\u001b[0m\u001b[0;34m\u001b[0m\u001b[0;34m\u001b[0m\u001b[0m\n\u001b[0m\u001b[1;32m    225\u001b[0m \u001b[0;34m\u001b[0m\u001b[0m\n\u001b[1;32m    226\u001b[0m     \u001b[0;32mreturn\u001b[0m \u001b[0mfilepath_or_buffer\u001b[0m\u001b[0;34m,\u001b[0m \u001b[0;32mNone\u001b[0m\u001b[0;34m,\u001b[0m \u001b[0mcompression\u001b[0m\u001b[0;34m,\u001b[0m \u001b[0;32mFalse\u001b[0m\u001b[0;34m\u001b[0m\u001b[0;34m\u001b[0m\u001b[0m\n",
      "\u001b[0;31mValueError\u001b[0m: Invalid file path or buffer object type: <class 'pandas.core.series.Series'>"
     ]
    }
   ],
   "source": [
    "## 3. Generating custom MS2 database using observed compounds.\n",
    "for ds_id in list(wholebody_ds_df.ds_id):\n",
    "    limit_list = list(ms1_df[ms1_df.ds_id_in == ds_id].moleculeIds.unique())\n",
    "    polarity = list(wholebody_ds_df[wholebody_ds_df.ds_id == ds_id].polarity)[0]\n",
    "    primary_loop(limit_list,\n",
    "                 ds,\n",
    "                 'II_wholebody',\n",
    "                 polarity,\n",
    "                 'intermediate/exp_positive.pickle',\n",
    "                 'intermediate/theo_positive.pickle',\n",
    "                 'intermediate/exp_negative.pickle',\n",
    "                 'intermediate/theo_negative.pickle',\n",
    "                 'intermediate/ref_expt_df.pickle',\n",
    "                 'intermediate/ref_theo_df.pickle'\n",
    "                 )\n",
    "\n",
    "# Send databases to Vitaly for uploading"
   ]
  },
  {
   "cell_type": "code",
   "execution_count": null,
   "metadata": {},
   "outputs": [],
   "source": [
    "## 4. Running and interpreting the METASPACE MSMS results.\n",
    "from clone_ds_to_beta import copy_beta\n",
    "\n",
    "ori_ds_db = ['2016-09-21_16h07m45s',\n",
    "             '2017-05-17_19h49m04s',\n",
    "             '2017-05-17_19h50m07s',\n",
    "             '2017-05-29_07h28m52s',\n",
    "             '2017-07-24_19h42m31s',\n",
    "             '2017-07-26_18h25m14s',\n",
    "             '2017-08-03_15h09m06s',\n",
    "             '2017-08-03_15h09m51s',\n",
    "             '2017-08-11_07h59m58s',\n",
    "             '2017-08-11_08h01m02s']\n",
    "out_dict_list = []\n",
    "for ds in ori_ds_db:\n",
    "    print(ds)\n",
    "    x = copy_beta(ds, 'M', ds)\n",
    "    out_dict_list.append(x)\n",
    "    \n",
    "out_df = pd.DataFrame(out_dict_list)\n",
    "out_df.to_pickle('intermediate/wholebody_ms2_df.pickle')"
   ]
  },
  {
   "cell_type": "code",
   "execution_count": null,
   "metadata": {},
   "outputs": [],
   "source": [
    "wholebody_ds_df.update(out_df)"
   ]
  },
  {
   "cell_type": "code",
   "execution_count": null,
   "metadata": {},
   "outputs": [],
   "source": [
    "## 5. Generate colocalization weighted psuedo-MS/MS spectra from ISF data."
   ]
  },
  {
   "cell_type": "code",
   "execution_count": null,
   "metadata": {},
   "outputs": [],
   "source": [
    "# Test inputs, replace with actual data when available.\n",
    "original_ds_id_on_prod = '2020-03-12_17h55m21s'  # Update to run!\n",
    "db_id_on_beta = '2020-05-13_17h50m21s'  # Update to run!\n",
    "ds_id_on_beta = '2020-05-14_16h32m01s'  # Update to run!\n",
    "path_to_reports = 'TEMP/reporting/'  # Update to run!\n",
    "polarity = ['positive', 'negative'][0]  # Update to run!\n",
    "psuedo_y_axis = ['binary', 'fdr', 'msm', 'cos', 'intensity'][0]\n",
    "ref_spectra_df = pd.read_pickle(\"input/cm3_reference_spectra_df.pickle\")"
   ]
  },
  {
   "cell_type": "code",
   "execution_count": null,
   "metadata": {},
   "outputs": [],
   "source": [
    "# Real inputs as data becomes available\n",
    "original_ds_id_on_prod = None  # Update to run!\n",
    "db_id_on_beta = None  # Update to run!\n",
    "ds_id_on_beta = None  # Update to run!\n",
    "path_to_reports = 'TEMP/reporting/'  # Update to run!\n",
    "polarity = ['positive', 'negative'][0]  # Update to run!\n",
    "psuedo_y_axis = ['binary', 'fdr', 'msm', 'cos', 'intensity'][0]\n",
    "ref_spectra_df = pd.read_pickle(\"input/cm3_reference_spectra_df.pickle\")\n"
   ]
  },
  {
   "cell_type": "code",
   "execution_count": null,
   "metadata": {},
   "outputs": [],
   "source": [
    "# Filter reference spectra and results on good spotted from above!\n",
    "x = list(spotted_cmpds_df.id)\n",
    "ref_spectra_df = ref_spectra_df[ref_spectra_df.id.isin(x)]"
   ]
  },
  {
   "cell_type": "code",
   "execution_count": null,
   "metadata": {},
   "outputs": [],
   "source": [
    "# Have to run some kind of loop for each dataset!\n",
    "mirror_main(original_ds_id_on_prod,\n",
    "                db_id_on_beta,\n",
    "                ds_id_on_beta,\n",
    "                path_to_reports,\n",
    "                polarity,\n",
    "                psuedo_y_axis,\n",
    "                ref_spectra_df)"
   ]
  },
  {
   "cell_type": "code",
   "execution_count": null,
   "metadata": {},
   "outputs": [],
   "source": [
    "## 6. Score predicted, experimental, and psuedo-MS/MS spectra together for well-behaved subset.\n",
    "\n",
    "# What scoring method?"
   ]
  },
  {
   "cell_type": "code",
   "execution_count": null,
   "metadata": {
    "scrolled": true
   },
   "outputs": [],
   "source": [
    "## 7. Plot examples.\n",
    "# Make a list of good examples to plot for paper...\n",
    "def load_arr_pickle(path):\n",
    "    # Loads pickled np.array\n",
    "    with open(path, 'rb') as f:\n",
    "        return pickle.load(f)\n",
    "\n",
    "plt.imshow(load_arr_pickle('*.pickle'))"
   ]
  },
  {
   "cell_type": "markdown",
   "metadata": {},
   "source": [
    "To do:\n",
    "1. Run through it and check to make sure steps work."
   ]
  }
 ],
 "metadata": {
  "kernelspec": {
   "display_name": "Python 3",
   "language": "python",
   "name": "python3"
  },
  "language_info": {
   "codemirror_mode": {
    "name": "ipython",
    "version": 3
   },
   "file_extension": ".py",
   "mimetype": "text/x-python",
   "name": "python",
   "nbconvert_exporter": "python",
   "pygments_lexer": "ipython3",
   "version": "3.6.8"
  }
 },
 "nbformat": 4,
 "nbformat_minor": 2
}
